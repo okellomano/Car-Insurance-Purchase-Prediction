{
 "cells": [
  {
   "cell_type": "markdown",
   "id": "d579e0fb-b289-4d58-9608-7e18b7115037",
   "metadata": {},
   "source": [
    "## <strong>The Car Insurance Purchase Prediction Project</strong>"
   ]
  },
  {
   "cell_type": "markdown",
   "id": "183c5b2e-ff9a-4294-a554-59f4074f81be",
   "metadata": {},
   "source": [
    "### <strong>Introduction</strong>\n",
    "\n",
    "The Car Insurance Purchase Prediction project aims to build a robust machine learning model to predict the probability of customers purchasing a car insurance product. The project utilizes two datasets: a training dataset, which comprises historical customer data and their purchase outcomes, and a score dataset containing data for new customers. The model is developed using popular open-source libraries such as Scikit-Learn, Keras, or TensorFlow to enhance its accuracy and performance.\n",
    "\n",
    "The project's primary objective is to develop a model that accurately predicts the likelihood of customers purchasing car insurance products based on their historical and current data. The model's successful implementation can significantly improve the efficiency and efficacy of sales and marketing strategies employed by car insurance companies. By leveraging data-driven insights, the model can help companies personalize their marketing campaigns, optimize their customer outreach, and achieve higher revenues and customer satisfaction.\n",
    "\n",
    "To evaluate the model's effectiveness, two evaluation metrics, namely ROC AUC and F1 score, are employed. The ROC AUC measures the model's ability to distinguish between positive and negative classes, while the F1 score determines the model's accuracy in correctly classifying the classes. The model's ability to perform well based on these metrics can help predict car insurance sales outcomes with higher accuracy and boost the insurance companies' success rates."
   ]
  },
  {
   "cell_type": "markdown",
   "id": "7c1cf8f0-3885-4f94-aabc-035ed543d3fe",
   "metadata": {},
   "source": [
    "### <strong>Project Objective</strong>\n",
    "\n",
    "To develop a model that accurately predicts the likelihood of customers purchasing car insurance products based on their historical and current data. The model's successful implementation can significantly improve the efficiency and efficacy of sales and marketing strategies employed by car insurance companies. By leveraging data-driven insights, the model can help companies personalize their marketing campaigns, optimize their customer outreach, and achieve higher revenues and customer satisfaction."
   ]
  },
  {
   "cell_type": "markdown",
   "id": "cc64c615-d8d7-48e9-8ce6-bd4533818973",
   "metadata": {},
   "source": [
    "### <strong>Process Summary</strong>\n",
    "\n",
    "The Car Insurance Purchase Prediction project involves the following steps:\n",
    "<ol>\n",
    "    <li>Data preprocessing: Cleaning and transforming the data, such as removing missing values, handling categorical variables, and normalizing numerical features, to make it suitable for machine learning models.</li>\n",
    "    <li>Exploratory data analysis: Conducting data exploration to understand the relationships between different variables and identify patterns and trends that can help in developing the machine learning model.</li>\n",
    "    <li>Feature selection: Selecting the most relevant features that contribute significantly to predicting the purchase outcome and eliminating irrelevant or redundant features.</li>\n",
    "    <li>Model Selection and Training: Select an appropriate machine learning algorithm and train the model on the training data, using techniques such as cross-validation to optimize the model's hyperparameters.</li>\n",
    "    <li>Model evaluation: Evaluating the models' performance using metrics such as ROC AUC and F1 score to determine their accuracy in predicting purchase outcomes.</li>\n",
    "    <li>Model Interpretation: Interpret the model to gain insights into the factors that are driving the predicted outcomes, including feature importance and partial dependence plots.</li>\n",
    "    \n",
    "</ol>"
   ]
  },
  {
   "cell_type": "markdown",
   "id": "a950d7f4-199a-493f-a4a5-dcf8d906ca03",
   "metadata": {},
   "source": [
    "### Project Implementation\n",
    "\n",
    "#### Importing the Libraries"
   ]
  },
  {
   "cell_type": "code",
   "execution_count": 58,
   "id": "912f46f3-59a8-4617-b67e-289ac935e1bd",
   "metadata": {},
   "outputs": [],
   "source": [
    "import pandas as pd\n",
    "import numpy as np\n",
    "import matplotlib.pyplot as plt\n",
    "import seaborn as sns\n",
    "\n",
    "from sklearn.preprocessing import LabelEncoder\n",
    "from sklearn.model_selection import train_test_split\n",
    "from sklearn.linear_model import LogisticRegression\n",
    "from sklearn.metrics import classification_report\n",
    "from sklearn.preprocessing import StandardScaler\n",
    "from sklearn.metrics import roc_auc_score, f1_score\n",
    "\n",
    "from sklearn.ensemble import RandomForestClassifier\n",
    "from sklearn.neighbors import KNeighborsClassifier\n",
    "from sklearn.model_selection import GridSearchCV\n",
    "from sklearn.svm import SVC\n",
    "\n"
   ]
  },
  {
   "cell_type": "markdown",
   "id": "f8e9f3f4-afe7-4bc2-9b21-e38b86923959",
   "metadata": {},
   "source": [
    "#### Load the Datasets"
   ]
  },
  {
   "cell_type": "code",
   "execution_count": 2,
   "id": "9e1de62b-1b6b-43f9-82a6-5563d8c61fab",
   "metadata": {},
   "outputs": [],
   "source": [
    "# Loading the training data.\n",
    "train_data = pd.read_csv('bzan6357_insurance_3_TRAINING.csv')"
   ]
  },
  {
   "cell_type": "markdown",
   "id": "7273b627-81c1-4b1f-9645-aac1b07ab878",
   "metadata": {},
   "source": [
    "#### Preprocessing the training data\n",
    "\n",
    "We are going to use the training data to train and validate the model."
   ]
  },
  {
   "cell_type": "code",
   "execution_count": 3,
   "id": "86b0f4a7-db98-4d5f-94c4-f2df9d5a8af2",
   "metadata": {},
   "outputs": [
    {
     "data": {
      "text/html": [
       "<div>\n",
       "<style scoped>\n",
       "    .dataframe tbody tr th:only-of-type {\n",
       "        vertical-align: middle;\n",
       "    }\n",
       "\n",
       "    .dataframe tbody tr th {\n",
       "        vertical-align: top;\n",
       "    }\n",
       "\n",
       "    .dataframe thead th {\n",
       "        text-align: right;\n",
       "    }\n",
       "</style>\n",
       "<table border=\"1\" class=\"dataframe\">\n",
       "  <thead>\n",
       "    <tr style=\"text-align: right;\">\n",
       "      <th></th>\n",
       "      <th>id_new</th>\n",
       "      <th>buy</th>\n",
       "      <th>age</th>\n",
       "      <th>gender</th>\n",
       "      <th>tenure</th>\n",
       "      <th>region</th>\n",
       "      <th>dl</th>\n",
       "      <th>has_v_insurance</th>\n",
       "      <th>v_age</th>\n",
       "      <th>v_accident</th>\n",
       "      <th>v_prem_quote</th>\n",
       "      <th>cs_rep</th>\n",
       "    </tr>\n",
       "  </thead>\n",
       "  <tbody>\n",
       "    <tr>\n",
       "      <th>0</th>\n",
       "      <td>a00000000</td>\n",
       "      <td>0</td>\n",
       "      <td>34</td>\n",
       "      <td>female</td>\n",
       "      <td>31</td>\n",
       "      <td>19</td>\n",
       "      <td>1</td>\n",
       "      <td>0</td>\n",
       "      <td>1-2 year</td>\n",
       "      <td>yes</td>\n",
       "      <td>27715.0</td>\n",
       "      <td>154</td>\n",
       "    </tr>\n",
       "    <tr>\n",
       "      <th>1</th>\n",
       "      <td>a00000001</td>\n",
       "      <td>0</td>\n",
       "      <td>50</td>\n",
       "      <td>male</td>\n",
       "      <td>211</td>\n",
       "      <td>34</td>\n",
       "      <td>1</td>\n",
       "      <td>0</td>\n",
       "      <td>1-2 year</td>\n",
       "      <td>yes</td>\n",
       "      <td>33945.0</td>\n",
       "      <td>154</td>\n",
       "    </tr>\n",
       "    <tr>\n",
       "      <th>2</th>\n",
       "      <td>a00000002</td>\n",
       "      <td>0</td>\n",
       "      <td>42</td>\n",
       "      <td>female</td>\n",
       "      <td>122</td>\n",
       "      <td>29</td>\n",
       "      <td>1</td>\n",
       "      <td>0</td>\n",
       "      <td>1-2 year</td>\n",
       "      <td>yes</td>\n",
       "      <td>37577.0</td>\n",
       "      <td>163</td>\n",
       "    </tr>\n",
       "    <tr>\n",
       "      <th>3</th>\n",
       "      <td>a00000003</td>\n",
       "      <td>0</td>\n",
       "      <td>28</td>\n",
       "      <td>male</td>\n",
       "      <td>75</td>\n",
       "      <td>3</td>\n",
       "      <td>1</td>\n",
       "      <td>0</td>\n",
       "      <td>1-2 year</td>\n",
       "      <td>yes</td>\n",
       "      <td>2630.0</td>\n",
       "      <td>154</td>\n",
       "    </tr>\n",
       "    <tr>\n",
       "      <th>4</th>\n",
       "      <td>a00000004</td>\n",
       "      <td>0</td>\n",
       "      <td>75</td>\n",
       "      <td>female</td>\n",
       "      <td>19</td>\n",
       "      <td>28</td>\n",
       "      <td>1</td>\n",
       "      <td>0</td>\n",
       "      <td>1-2 year</td>\n",
       "      <td>yes</td>\n",
       "      <td>47511.0</td>\n",
       "      <td>122</td>\n",
       "    </tr>\n",
       "  </tbody>\n",
       "</table>\n",
       "</div>"
      ],
      "text/plain": [
       "      id_new  buy  age  gender  tenure  region  dl  has_v_insurance     v_age  \\\n",
       "0  a00000000    0   34  female      31      19   1                0  1-2 year   \n",
       "1  a00000001    0   50    male     211      34   1                0  1-2 year   \n",
       "2  a00000002    0   42  female     122      29   1                0  1-2 year   \n",
       "3  a00000003    0   28    male      75       3   1                0  1-2 year   \n",
       "4  a00000004    0   75  female      19      28   1                0  1-2 year   \n",
       "\n",
       "  v_accident  v_prem_quote  cs_rep  \n",
       "0        yes       27715.0     154  \n",
       "1        yes       33945.0     154  \n",
       "2        yes       37577.0     163  \n",
       "3        yes        2630.0     154  \n",
       "4        yes       47511.0     122  "
      ]
     },
     "execution_count": 3,
     "metadata": {},
     "output_type": "execute_result"
    }
   ],
   "source": [
    "train_data.head()"
   ]
  },
  {
   "cell_type": "code",
   "execution_count": 4,
   "id": "4e988aab-ac42-491b-a7a8-d309fc0e1ce2",
   "metadata": {},
   "outputs": [
    {
     "name": "stdout",
     "output_type": "stream",
     "text": [
      "<class 'pandas.core.frame.DataFrame'>\n",
      "RangeIndex: 20460 entries, 0 to 20459\n",
      "Data columns (total 12 columns):\n",
      " #   Column           Non-Null Count  Dtype  \n",
      "---  ------           --------------  -----  \n",
      " 0   id_new           20460 non-null  object \n",
      " 1   buy              20460 non-null  int64  \n",
      " 2   age              20460 non-null  int64  \n",
      " 3   gender           20460 non-null  object \n",
      " 4   tenure           20460 non-null  int64  \n",
      " 5   region           20460 non-null  int64  \n",
      " 6   dl               20460 non-null  int64  \n",
      " 7   has_v_insurance  20460 non-null  int64  \n",
      " 8   v_age            20460 non-null  object \n",
      " 9   v_accident       20460 non-null  object \n",
      " 10  v_prem_quote     20460 non-null  float64\n",
      " 11  cs_rep           20460 non-null  int64  \n",
      "dtypes: float64(1), int64(7), object(4)\n",
      "memory usage: 1.9+ MB\n"
     ]
    }
   ],
   "source": [
    "# brief summary of training data\n",
    "train_data.info()"
   ]
  },
  {
   "cell_type": "code",
   "execution_count": 5,
   "id": "9ac5ddb4-2d89-4082-98af-78f84fe0b92c",
   "metadata": {},
   "outputs": [
    {
     "name": "stdout",
     "output_type": "stream",
     "text": [
      "id_new             0\n",
      "buy                0\n",
      "age                0\n",
      "gender             0\n",
      "tenure             0\n",
      "region             0\n",
      "dl                 0\n",
      "has_v_insurance    0\n",
      "v_age              0\n",
      "v_accident         0\n",
      "v_prem_quote       0\n",
      "cs_rep             0\n",
      "dtype: int64\n"
     ]
    }
   ],
   "source": [
    "# checking if there are missing values in the dataset\n",
    "print(train_data.isnull().sum())\n"
   ]
  },
  {
   "cell_type": "code",
   "execution_count": 6,
   "id": "3576cade-f8e6-44dc-93b6-06bc04e68c3c",
   "metadata": {},
   "outputs": [
    {
     "name": "stdout",
     "output_type": "stream",
     "text": [
      "Number of duplicates: 0\n"
     ]
    }
   ],
   "source": [
    "# checking for duplicates\n",
    "duplicates = train_data.duplicated()\n",
    "\n",
    "# Count the number of duplicates\n",
    "num_duplicates = duplicates.sum()\n",
    "\n",
    "# Print the number of duplicates\n",
    "print(\"Number of duplicates:\", num_duplicates)"
   ]
  },
  {
   "cell_type": "code",
   "execution_count": 7,
   "id": "1aa91793-b17e-487b-a5ce-3adf94f788a3",
   "metadata": {},
   "outputs": [],
   "source": [
    "# Encoding categorical variables using one-hot encoding\n",
    "# First make a copy of the original dataset\n",
    "train_data_copy = train_data.copy()"
   ]
  },
  {
   "cell_type": "code",
   "execution_count": 8,
   "id": "4756e3db-cfdf-41fc-9cf1-8618e29dac30",
   "metadata": {},
   "outputs": [],
   "source": [
    "# perform one-hot encoding\n",
    "train_data_copy = pd.get_dummies(train_data_copy, columns=['gender', 'v_accident'])"
   ]
  },
  {
   "cell_type": "code",
   "execution_count": 9,
   "id": "7f8d906f-e0d6-4a5d-b75e-40cb094ebb35",
   "metadata": {},
   "outputs": [
    {
     "data": {
      "text/html": [
       "<div>\n",
       "<style scoped>\n",
       "    .dataframe tbody tr th:only-of-type {\n",
       "        vertical-align: middle;\n",
       "    }\n",
       "\n",
       "    .dataframe tbody tr th {\n",
       "        vertical-align: top;\n",
       "    }\n",
       "\n",
       "    .dataframe thead th {\n",
       "        text-align: right;\n",
       "    }\n",
       "</style>\n",
       "<table border=\"1\" class=\"dataframe\">\n",
       "  <thead>\n",
       "    <tr style=\"text-align: right;\">\n",
       "      <th></th>\n",
       "      <th>id_new</th>\n",
       "      <th>buy</th>\n",
       "      <th>age</th>\n",
       "      <th>tenure</th>\n",
       "      <th>region</th>\n",
       "      <th>dl</th>\n",
       "      <th>has_v_insurance</th>\n",
       "      <th>v_age</th>\n",
       "      <th>v_prem_quote</th>\n",
       "      <th>cs_rep</th>\n",
       "      <th>gender_female</th>\n",
       "      <th>gender_male</th>\n",
       "      <th>v_accident_no</th>\n",
       "      <th>v_accident_yes</th>\n",
       "    </tr>\n",
       "  </thead>\n",
       "  <tbody>\n",
       "    <tr>\n",
       "      <th>0</th>\n",
       "      <td>a00000000</td>\n",
       "      <td>0</td>\n",
       "      <td>34</td>\n",
       "      <td>31</td>\n",
       "      <td>19</td>\n",
       "      <td>1</td>\n",
       "      <td>0</td>\n",
       "      <td>1-2 year</td>\n",
       "      <td>27715.0</td>\n",
       "      <td>154</td>\n",
       "      <td>1</td>\n",
       "      <td>0</td>\n",
       "      <td>0</td>\n",
       "      <td>1</td>\n",
       "    </tr>\n",
       "    <tr>\n",
       "      <th>1</th>\n",
       "      <td>a00000001</td>\n",
       "      <td>0</td>\n",
       "      <td>50</td>\n",
       "      <td>211</td>\n",
       "      <td>34</td>\n",
       "      <td>1</td>\n",
       "      <td>0</td>\n",
       "      <td>1-2 year</td>\n",
       "      <td>33945.0</td>\n",
       "      <td>154</td>\n",
       "      <td>0</td>\n",
       "      <td>1</td>\n",
       "      <td>0</td>\n",
       "      <td>1</td>\n",
       "    </tr>\n",
       "    <tr>\n",
       "      <th>2</th>\n",
       "      <td>a00000002</td>\n",
       "      <td>0</td>\n",
       "      <td>42</td>\n",
       "      <td>122</td>\n",
       "      <td>29</td>\n",
       "      <td>1</td>\n",
       "      <td>0</td>\n",
       "      <td>1-2 year</td>\n",
       "      <td>37577.0</td>\n",
       "      <td>163</td>\n",
       "      <td>1</td>\n",
       "      <td>0</td>\n",
       "      <td>0</td>\n",
       "      <td>1</td>\n",
       "    </tr>\n",
       "    <tr>\n",
       "      <th>3</th>\n",
       "      <td>a00000003</td>\n",
       "      <td>0</td>\n",
       "      <td>28</td>\n",
       "      <td>75</td>\n",
       "      <td>3</td>\n",
       "      <td>1</td>\n",
       "      <td>0</td>\n",
       "      <td>1-2 year</td>\n",
       "      <td>2630.0</td>\n",
       "      <td>154</td>\n",
       "      <td>0</td>\n",
       "      <td>1</td>\n",
       "      <td>0</td>\n",
       "      <td>1</td>\n",
       "    </tr>\n",
       "    <tr>\n",
       "      <th>4</th>\n",
       "      <td>a00000004</td>\n",
       "      <td>0</td>\n",
       "      <td>75</td>\n",
       "      <td>19</td>\n",
       "      <td>28</td>\n",
       "      <td>1</td>\n",
       "      <td>0</td>\n",
       "      <td>1-2 year</td>\n",
       "      <td>47511.0</td>\n",
       "      <td>122</td>\n",
       "      <td>1</td>\n",
       "      <td>0</td>\n",
       "      <td>0</td>\n",
       "      <td>1</td>\n",
       "    </tr>\n",
       "  </tbody>\n",
       "</table>\n",
       "</div>"
      ],
      "text/plain": [
       "      id_new  buy  age  tenure  region  dl  has_v_insurance     v_age  \\\n",
       "0  a00000000    0   34      31      19   1                0  1-2 year   \n",
       "1  a00000001    0   50     211      34   1                0  1-2 year   \n",
       "2  a00000002    0   42     122      29   1                0  1-2 year   \n",
       "3  a00000003    0   28      75       3   1                0  1-2 year   \n",
       "4  a00000004    0   75      19      28   1                0  1-2 year   \n",
       "\n",
       "   v_prem_quote  cs_rep  gender_female  gender_male  v_accident_no  \\\n",
       "0       27715.0     154              1            0              0   \n",
       "1       33945.0     154              0            1              0   \n",
       "2       37577.0     163              1            0              0   \n",
       "3        2630.0     154              0            1              0   \n",
       "4       47511.0     122              1            0              0   \n",
       "\n",
       "   v_accident_yes  \n",
       "0               1  \n",
       "1               1  \n",
       "2               1  \n",
       "3               1  \n",
       "4               1  "
      ]
     },
     "execution_count": 9,
     "metadata": {},
     "output_type": "execute_result"
    }
   ],
   "source": [
    "train_data_copy.head()"
   ]
  },
  {
   "cell_type": "code",
   "execution_count": 10,
   "id": "18eaf02d-d850-4d04-aaca-6f09d79b2be3",
   "metadata": {},
   "outputs": [
    {
     "data": {
      "text/html": [
       "<div>\n",
       "<style scoped>\n",
       "    .dataframe tbody tr th:only-of-type {\n",
       "        vertical-align: middle;\n",
       "    }\n",
       "\n",
       "    .dataframe tbody tr th {\n",
       "        vertical-align: top;\n",
       "    }\n",
       "\n",
       "    .dataframe thead th {\n",
       "        text-align: right;\n",
       "    }\n",
       "</style>\n",
       "<table border=\"1\" class=\"dataframe\">\n",
       "  <thead>\n",
       "    <tr style=\"text-align: right;\">\n",
       "      <th></th>\n",
       "      <th>id_new</th>\n",
       "      <th>buy</th>\n",
       "      <th>age</th>\n",
       "      <th>tenure</th>\n",
       "      <th>region</th>\n",
       "      <th>dl</th>\n",
       "      <th>has_v_insurance</th>\n",
       "      <th>v_age</th>\n",
       "      <th>v_prem_quote</th>\n",
       "      <th>cs_rep</th>\n",
       "      <th>gender_female</th>\n",
       "      <th>gender_male</th>\n",
       "      <th>v_accident_no</th>\n",
       "      <th>v_accident_yes</th>\n",
       "      <th>v_age_1-2 year</th>\n",
       "      <th>v_age_&lt; 1 year</th>\n",
       "      <th>v_age_&gt; 2 years</th>\n",
       "    </tr>\n",
       "  </thead>\n",
       "  <tbody>\n",
       "    <tr>\n",
       "      <th>0</th>\n",
       "      <td>a00000000</td>\n",
       "      <td>0</td>\n",
       "      <td>34</td>\n",
       "      <td>31</td>\n",
       "      <td>19</td>\n",
       "      <td>1</td>\n",
       "      <td>0</td>\n",
       "      <td>1-2 year</td>\n",
       "      <td>27715.0</td>\n",
       "      <td>154</td>\n",
       "      <td>1</td>\n",
       "      <td>0</td>\n",
       "      <td>0</td>\n",
       "      <td>1</td>\n",
       "      <td>1</td>\n",
       "      <td>0</td>\n",
       "      <td>0</td>\n",
       "    </tr>\n",
       "    <tr>\n",
       "      <th>1</th>\n",
       "      <td>a00000001</td>\n",
       "      <td>0</td>\n",
       "      <td>50</td>\n",
       "      <td>211</td>\n",
       "      <td>34</td>\n",
       "      <td>1</td>\n",
       "      <td>0</td>\n",
       "      <td>1-2 year</td>\n",
       "      <td>33945.0</td>\n",
       "      <td>154</td>\n",
       "      <td>0</td>\n",
       "      <td>1</td>\n",
       "      <td>0</td>\n",
       "      <td>1</td>\n",
       "      <td>1</td>\n",
       "      <td>0</td>\n",
       "      <td>0</td>\n",
       "    </tr>\n",
       "    <tr>\n",
       "      <th>2</th>\n",
       "      <td>a00000002</td>\n",
       "      <td>0</td>\n",
       "      <td>42</td>\n",
       "      <td>122</td>\n",
       "      <td>29</td>\n",
       "      <td>1</td>\n",
       "      <td>0</td>\n",
       "      <td>1-2 year</td>\n",
       "      <td>37577.0</td>\n",
       "      <td>163</td>\n",
       "      <td>1</td>\n",
       "      <td>0</td>\n",
       "      <td>0</td>\n",
       "      <td>1</td>\n",
       "      <td>1</td>\n",
       "      <td>0</td>\n",
       "      <td>0</td>\n",
       "    </tr>\n",
       "    <tr>\n",
       "      <th>3</th>\n",
       "      <td>a00000003</td>\n",
       "      <td>0</td>\n",
       "      <td>28</td>\n",
       "      <td>75</td>\n",
       "      <td>3</td>\n",
       "      <td>1</td>\n",
       "      <td>0</td>\n",
       "      <td>1-2 year</td>\n",
       "      <td>2630.0</td>\n",
       "      <td>154</td>\n",
       "      <td>0</td>\n",
       "      <td>1</td>\n",
       "      <td>0</td>\n",
       "      <td>1</td>\n",
       "      <td>1</td>\n",
       "      <td>0</td>\n",
       "      <td>0</td>\n",
       "    </tr>\n",
       "    <tr>\n",
       "      <th>4</th>\n",
       "      <td>a00000004</td>\n",
       "      <td>0</td>\n",
       "      <td>75</td>\n",
       "      <td>19</td>\n",
       "      <td>28</td>\n",
       "      <td>1</td>\n",
       "      <td>0</td>\n",
       "      <td>1-2 year</td>\n",
       "      <td>47511.0</td>\n",
       "      <td>122</td>\n",
       "      <td>1</td>\n",
       "      <td>0</td>\n",
       "      <td>0</td>\n",
       "      <td>1</td>\n",
       "      <td>1</td>\n",
       "      <td>0</td>\n",
       "      <td>0</td>\n",
       "    </tr>\n",
       "  </tbody>\n",
       "</table>\n",
       "</div>"
      ],
      "text/plain": [
       "      id_new  buy  age  tenure  region  dl  has_v_insurance     v_age  \\\n",
       "0  a00000000    0   34      31      19   1                0  1-2 year   \n",
       "1  a00000001    0   50     211      34   1                0  1-2 year   \n",
       "2  a00000002    0   42     122      29   1                0  1-2 year   \n",
       "3  a00000003    0   28      75       3   1                0  1-2 year   \n",
       "4  a00000004    0   75      19      28   1                0  1-2 year   \n",
       "\n",
       "   v_prem_quote  cs_rep  gender_female  gender_male  v_accident_no  \\\n",
       "0       27715.0     154              1            0              0   \n",
       "1       33945.0     154              0            1              0   \n",
       "2       37577.0     163              1            0              0   \n",
       "3        2630.0     154              0            1              0   \n",
       "4       47511.0     122              1            0              0   \n",
       "\n",
       "   v_accident_yes  v_age_1-2 year  v_age_< 1 year  v_age_> 2 years  \n",
       "0               1               1               0                0  \n",
       "1               1               1               0                0  \n",
       "2               1               1               0                0  \n",
       "3               1               1               0                0  \n",
       "4               1               1               0                0  "
      ]
     },
     "execution_count": 10,
     "metadata": {},
     "output_type": "execute_result"
    }
   ],
   "source": [
    "v_age_dummies = pd.get_dummies(train_data_copy['v_age'], prefix='v_age')\n",
    "train_data_copy = pd.concat([train_data_copy, v_age_dummies], axis=1)\n",
    "train_data_copy.head()\n"
   ]
  },
  {
   "cell_type": "code",
   "execution_count": 11,
   "id": "c460eeac-347b-42d1-872d-f299529b3037",
   "metadata": {},
   "outputs": [
    {
     "data": {
      "text/html": [
       "<div>\n",
       "<style scoped>\n",
       "    .dataframe tbody tr th:only-of-type {\n",
       "        vertical-align: middle;\n",
       "    }\n",
       "\n",
       "    .dataframe tbody tr th {\n",
       "        vertical-align: top;\n",
       "    }\n",
       "\n",
       "    .dataframe thead th {\n",
       "        text-align: right;\n",
       "    }\n",
       "</style>\n",
       "<table border=\"1\" class=\"dataframe\">\n",
       "  <thead>\n",
       "    <tr style=\"text-align: right;\">\n",
       "      <th></th>\n",
       "      <th>id_new</th>\n",
       "      <th>buy</th>\n",
       "      <th>age</th>\n",
       "      <th>tenure</th>\n",
       "      <th>region</th>\n",
       "      <th>dl</th>\n",
       "      <th>has_v_insurance</th>\n",
       "      <th>v_prem_quote</th>\n",
       "      <th>cs_rep</th>\n",
       "      <th>gender_female</th>\n",
       "      <th>gender_male</th>\n",
       "      <th>v_accident_no</th>\n",
       "      <th>v_accident_yes</th>\n",
       "      <th>v_age_1-2 year</th>\n",
       "      <th>v_age_&lt; 1 year</th>\n",
       "      <th>v_age_&gt; 2 years</th>\n",
       "    </tr>\n",
       "  </thead>\n",
       "  <tbody>\n",
       "    <tr>\n",
       "      <th>0</th>\n",
       "      <td>a00000000</td>\n",
       "      <td>0</td>\n",
       "      <td>34</td>\n",
       "      <td>31</td>\n",
       "      <td>19</td>\n",
       "      <td>1</td>\n",
       "      <td>0</td>\n",
       "      <td>27715.0</td>\n",
       "      <td>154</td>\n",
       "      <td>1</td>\n",
       "      <td>0</td>\n",
       "      <td>0</td>\n",
       "      <td>1</td>\n",
       "      <td>1</td>\n",
       "      <td>0</td>\n",
       "      <td>0</td>\n",
       "    </tr>\n",
       "    <tr>\n",
       "      <th>1</th>\n",
       "      <td>a00000001</td>\n",
       "      <td>0</td>\n",
       "      <td>50</td>\n",
       "      <td>211</td>\n",
       "      <td>34</td>\n",
       "      <td>1</td>\n",
       "      <td>0</td>\n",
       "      <td>33945.0</td>\n",
       "      <td>154</td>\n",
       "      <td>0</td>\n",
       "      <td>1</td>\n",
       "      <td>0</td>\n",
       "      <td>1</td>\n",
       "      <td>1</td>\n",
       "      <td>0</td>\n",
       "      <td>0</td>\n",
       "    </tr>\n",
       "    <tr>\n",
       "      <th>2</th>\n",
       "      <td>a00000002</td>\n",
       "      <td>0</td>\n",
       "      <td>42</td>\n",
       "      <td>122</td>\n",
       "      <td>29</td>\n",
       "      <td>1</td>\n",
       "      <td>0</td>\n",
       "      <td>37577.0</td>\n",
       "      <td>163</td>\n",
       "      <td>1</td>\n",
       "      <td>0</td>\n",
       "      <td>0</td>\n",
       "      <td>1</td>\n",
       "      <td>1</td>\n",
       "      <td>0</td>\n",
       "      <td>0</td>\n",
       "    </tr>\n",
       "    <tr>\n",
       "      <th>3</th>\n",
       "      <td>a00000003</td>\n",
       "      <td>0</td>\n",
       "      <td>28</td>\n",
       "      <td>75</td>\n",
       "      <td>3</td>\n",
       "      <td>1</td>\n",
       "      <td>0</td>\n",
       "      <td>2630.0</td>\n",
       "      <td>154</td>\n",
       "      <td>0</td>\n",
       "      <td>1</td>\n",
       "      <td>0</td>\n",
       "      <td>1</td>\n",
       "      <td>1</td>\n",
       "      <td>0</td>\n",
       "      <td>0</td>\n",
       "    </tr>\n",
       "    <tr>\n",
       "      <th>4</th>\n",
       "      <td>a00000004</td>\n",
       "      <td>0</td>\n",
       "      <td>75</td>\n",
       "      <td>19</td>\n",
       "      <td>28</td>\n",
       "      <td>1</td>\n",
       "      <td>0</td>\n",
       "      <td>47511.0</td>\n",
       "      <td>122</td>\n",
       "      <td>1</td>\n",
       "      <td>0</td>\n",
       "      <td>0</td>\n",
       "      <td>1</td>\n",
       "      <td>1</td>\n",
       "      <td>0</td>\n",
       "      <td>0</td>\n",
       "    </tr>\n",
       "  </tbody>\n",
       "</table>\n",
       "</div>"
      ],
      "text/plain": [
       "      id_new  buy  age  tenure  region  dl  has_v_insurance  v_prem_quote  \\\n",
       "0  a00000000    0   34      31      19   1                0       27715.0   \n",
       "1  a00000001    0   50     211      34   1                0       33945.0   \n",
       "2  a00000002    0   42     122      29   1                0       37577.0   \n",
       "3  a00000003    0   28      75       3   1                0        2630.0   \n",
       "4  a00000004    0   75      19      28   1                0       47511.0   \n",
       "\n",
       "   cs_rep  gender_female  gender_male  v_accident_no  v_accident_yes  \\\n",
       "0     154              1            0              0               1   \n",
       "1     154              0            1              0               1   \n",
       "2     163              1            0              0               1   \n",
       "3     154              0            1              0               1   \n",
       "4     122              1            0              0               1   \n",
       "\n",
       "   v_age_1-2 year  v_age_< 1 year  v_age_> 2 years  \n",
       "0               1               0                0  \n",
       "1               1               0                0  \n",
       "2               1               0                0  \n",
       "3               1               0                0  \n",
       "4               1               0                0  "
      ]
     },
     "execution_count": 11,
     "metadata": {},
     "output_type": "execute_result"
    }
   ],
   "source": [
    "# drop the v_age column after encoding\n",
    "train_data_copy.drop('v_age', axis=1, inplace=True)\n",
    "train_data_copy.head()\n"
   ]
  },
  {
   "cell_type": "code",
   "execution_count": 12,
   "id": "f487e275-8d65-4bbc-b40a-ed39dcbb6cca",
   "metadata": {},
   "outputs": [],
   "source": [
    "# We also need to drop the id_new column as it is not very relevant to the goal\n",
    "train_data_copy.drop('id_new', axis=1, inplace=True)\n"
   ]
  },
  {
   "cell_type": "markdown",
   "id": "4edc4f3e-665f-40bd-ab29-709dc9f24905",
   "metadata": {},
   "source": [
    "##### Preprocessing summary\n",
    "<ul>\n",
    "    <li>There are no missing values in the dataset.</li>\n",
    "    <li>There are no duplicates in the dataset.</li>\n",
    "    <li>Encode the categorical variables in the dataset as binary values, allowing them to be used in a machine learning model.</li>\n",
    "    <li>Drop irrelevant columns.</li>\n",
    "</ul>"
   ]
  },
  {
   "cell_type": "markdown",
   "id": "c26445e2-fe1c-4c2e-a309-74bca4d28e07",
   "metadata": {},
   "source": [
    "#### Exploratory Data Analyses (EDAs)"
   ]
  },
  {
   "cell_type": "code",
   "execution_count": 13,
   "id": "9973a122-f9cc-4428-ad71-ecac66780b33",
   "metadata": {},
   "outputs": [
    {
     "data": {
      "text/plain": [
       "(18.0, 100.0)"
      ]
     },
     "execution_count": 13,
     "metadata": {},
     "output_type": "execute_result"
    },
    {
     "data": {
      "image/png": "[encoded data removed]",
      "text/plain": [
       "<Figure size 640x480 with 1 Axes>"
      ]
     },
     "metadata": {},
     "output_type": "display_data"
    }
   ],
   "source": [
    "# Create scatter plots for age, tenure, and v_prem_quote\n",
    "sns.scatterplot(x='age', y='buy', data=train_data_copy);\n",
    "\n",
    "# Set x-axis limit\n",
    "plt.xlim(18, 100)"
   ]
  },
  {
   "cell_type": "markdown",
   "id": "e57c078c-b431-4ac1-b5d9-f3b5eac87c8e",
   "metadata": {},
   "source": [
    "From the plot, people of younger ages are more likely to buy the insurance."
   ]
  },
  {
   "cell_type": "code",
   "execution_count": 14,
   "id": "00a16d71-41b5-4d0c-99ee-277881012673",
   "metadata": {},
   "outputs": [
    {
     "data": {
      "image/png": "[encoded data removed]",
      "text/plain": [
       "<Figure size 640x480 with 1 Axes>"
      ]
     },
     "metadata": {},
     "output_type": "display_data"
    }
   ],
   "source": [
    "sns.scatterplot(x='v_prem_quote', y='buy', data=train_data_copy);\n",
    "plt.xlim(1000, 400000);\n"
   ]
  },
  {
   "cell_type": "markdown",
   "id": "20726668-0a21-428c-84b7-3b34dd97e4e3",
   "metadata": {},
   "source": [
    "From the plot, people with lower annual premium quote are more likely to buy insurance."
   ]
  },
  {
   "cell_type": "code",
   "execution_count": 15,
   "id": "d8e05cfc-78a0-4af5-8633-954ccb02ce0e",
   "metadata": {},
   "outputs": [
    {
     "data": {
      "image/png": "[encoded data removed]",
      "text/plain": [
       "<Figure size 640x480 with 1 Axes>"
      ]
     },
     "metadata": {},
     "output_type": "display_data"
    }
   ],
   "source": [
    "# plot histogram of age\n",
    "plt.hist(train_data_copy['age'], bins=20)\n",
    "plt.xlabel('Age')\n",
    "plt.ylabel('Frequency')\n",
    "plt.title('Distribution of Age')\n",
    "plt.show()"
   ]
  },
  {
   "cell_type": "markdown",
   "id": "f00cc0e6-d84e-488b-a1f9-6fc126035558",
   "metadata": {},
   "source": [
    "Majority of people are between 20 - 50 years old."
   ]
  },
  {
   "cell_type": "code",
   "execution_count": 16,
   "id": "43eee757-850c-40de-aabd-264f03a8cfe4",
   "metadata": {},
   "outputs": [
    {
     "data": {
      "image/png": "[encoded data removed]",
      "text/plain": [
       "<Figure size 640x480 with 1 Axes>"
      ]
     },
     "metadata": {},
     "output_type": "display_data"
    }
   ],
   "source": [
    "# plot histogram of insurance\n",
    "plt.hist(train_data_copy['has_v_insurance'], bins=20)\n",
    "plt.xlabel('Have Insurance')\n",
    "plt.ylabel('Frequency')\n",
    "plt.title('Distribution of Insurance')\n",
    "plt.show()"
   ]
  },
  {
   "cell_type": "markdown",
   "id": "3c8c3ba1-f09a-408b-85e5-addb33d65ec0",
   "metadata": {},
   "source": [
    "From the graph, majority of people do not have valid insurance. Approximately 72.35% as calculated below"
   ]
  },
  {
   "cell_type": "code",
   "execution_count": 17,
   "id": "51bb65ae-f81c-4c9c-b81b-92f93422032f",
   "metadata": {},
   "outputs": [
    {
     "name": "stdout",
     "output_type": "stream",
     "text": [
      "Percentage of people who have insurance: 27.65%\n",
      "Percentage of people who do not have insurance: 72.35%\n"
     ]
    }
   ],
   "source": [
    "# Calculate the number of people who have insurance and who do not have insurance\n",
    "insured = train_data_copy[train_data_copy['has_v_insurance'] == 1]['has_v_insurance'].count()\n",
    "not_insured = train_data_copy[train_data_copy['has_v_insurance'] == 0]['has_v_insurance'].count()\n",
    "\n",
    "# Calculate the percentage of people who have insurance and who do not have insurance\n",
    "percent_insured = (insured / len(train_data_copy)) * 100\n",
    "percent_not_insured = (not_insured / len(train_data_copy)) * 100\n",
    "\n",
    "print(\"Percentage of people who have insurance: {:.2f}%\".format(percent_insured))\n",
    "print(\"Percentage of people who do not have insurance: {:.2f}%\".format(percent_not_insured))\n"
   ]
  },
  {
   "cell_type": "code",
   "execution_count": 18,
   "id": "e640f6f3-653b-4249-9442-3afe7f4b2d02",
   "metadata": {},
   "outputs": [
    {
     "name": "stdout",
     "output_type": "stream",
     "text": [
      "5        25\n",
      "6        34\n",
      "19       31\n",
      "23       24\n",
      "29       24\n",
      "         ..\n",
      "20450    43\n",
      "20453    23\n",
      "20455    23\n",
      "20457    68\n",
      "20459    24\n",
      "Name: age, Length: 5658, dtype: int64\n"
     ]
    }
   ],
   "source": [
    "# Lets examine the relationship between those who have valid insurance and age\n",
    "# filter the rows where has_v_insurance is equal to 1\n",
    "valid_insurance = train_data_copy.loc[train_data_copy['has_v_insurance'] == 1]\n",
    "\n",
    "# select the age column of the filtered data\n",
    "valid_insurance_ages = valid_insurance['age']\n",
    "\n",
    "# print the age values\n",
    "print(valid_insurance_ages)"
   ]
  },
  {
   "cell_type": "code",
   "execution_count": 19,
   "id": "8865f87d-6f1a-4553-9e88-327037913fc0",
   "metadata": {},
   "outputs": [
    {
     "data": {
      "image/png": "[encoded data removed]",
      "text/plain": [
       "<Figure size 640x480 with 1 Axes>"
      ]
     },
     "metadata": {},
     "output_type": "display_data"
    }
   ],
   "source": [
    "# Filter the data to include only those with valid insurance\n",
    "insured_customers = train_data_copy[train_data_copy['has_v_insurance'] == 1]\n",
    "\n",
    "# Create a histogram of the age distribution for insured customers\n",
    "sns.histplot(insured_customers['age']);\n",
    "plt.title('Relationship between Age and Valid Insurance Status');\n"
   ]
  },
  {
   "cell_type": "markdown",
   "id": "593e9507-2a84-409a-ac66-9c785330f467",
   "metadata": {},
   "source": [
    "Majority of those who have valid insurance is between 25 and 30 years, while the least are above 72 years"
   ]
  },
  {
   "cell_type": "code",
   "execution_count": 20,
   "id": "b49509de-91b4-4203-bb58-126732849c71",
   "metadata": {},
   "outputs": [
    {
     "data": {
      "image/png": "[encoded data removed]",
      "text/plain": [
       "<Figure size 640x480 with 1 Axes>"
      ]
     },
     "metadata": {},
     "output_type": "display_data"
    }
   ],
   "source": [
    "#vehicle age; veicle accident; dl; region\n",
    "sns.countplot(x='v_age', hue='buy', data=train_data)\n",
    "plt.title('Relationship between Vehicle Age and Buying Insurance')\n",
    "plt.xlabel('Vehicle Age')\n",
    "plt.ylabel('Count')\n",
    "plt.show()"
   ]
  },
  {
   "cell_type": "markdown",
   "id": "459cd9fd-fbac-4b7b-9c62-8264ac47178f",
   "metadata": {},
   "source": [
    "According to the plot,people who own vehicles between 1-2 years are the majority, and are more likely to buy the insurance. While vehicles greater than 2 years are less likely to buy insurance."
   ]
  },
  {
   "cell_type": "code",
   "execution_count": 21,
   "id": "20fd0fe8-a54f-4725-b2c2-3553a0d09efb",
   "metadata": {},
   "outputs": [
    {
     "data": {
      "image/png": "[encoded data removed]",
      "text/plain": [
       "<Figure size 640x480 with 1 Axes>"
      ]
     },
     "metadata": {},
     "output_type": "display_data"
    }
   ],
   "source": [
    "sns.countplot(x='v_accident', hue='buy', data=train_data)\n",
    "plt.title('Relationship between Vehicle Accident and Buying Insurance')\n",
    "plt.xlabel('Vehicle Accident')\n",
    "plt.ylabel('Count')\n",
    "plt.show()"
   ]
  },
  {
   "cell_type": "markdown",
   "id": "fcacc1a0-3fac-4257-8019-746ab3f884be",
   "metadata": {},
   "source": [
    "Vehicles that have had accident before are more likey to have insurance cover as compared to vehicles which had not."
   ]
  },
  {
   "cell_type": "code",
   "execution_count": 22,
   "id": "9cac769d-874d-4551-bc69-f0b342933530",
   "metadata": {},
   "outputs": [
    {
     "data": {
      "image/png": "[encoded data removed]",
      "text/plain": [
       "<Figure size 1500x600 with 1 Axes>"
      ]
     },
     "metadata": {},
     "output_type": "display_data"
    }
   ],
   "source": [
    "plt.figure(figsize=(15,6))\n",
    "sns.countplot(x='region', hue='buy', data=train_data_copy)\n",
    "plt.title('Count of customers by region and insurance purchase')\n",
    "plt.xlabel('Region')\n",
    "plt.ylabel('Count')\n",
    "plt.xticks(rotation=45)\n",
    "\n",
    "plt.show()"
   ]
  },
  {
   "cell_type": "markdown",
   "id": "bc4e16e0-7925-4117-922b-01ae2e53fb73",
   "metadata": {},
   "source": [
    "Majority of car owners are from region 28. In this region, a few have insurance cover while the majority do not have insurance cover."
   ]
  },
  {
   "cell_type": "markdown",
   "id": "47c9b613-75e7-4313-a0cf-191da95d67f3",
   "metadata": {},
   "source": [
    "### <strong>Comments on EDAs</strong>\n",
    "\n",
    "Based on the EDA reports, we can infer that the age of a person has a significant influence on whether or not they buy insurance, with younger people being more likely to buy. Additionally, people who own newer vehicles (between 1-2 years) are more likely to buy insurance, while those who own older vehicles are less likely to buy. The premium quote also seems to be a factor, with those who have a lower premium quote being more likely to buy insurance.\n",
    "\n",
    "The majority of people in the dataset are between the ages of 20-50 years old, and most of the car owners are also from this age range. A large proportion of car owners are from region 28, although most of them do not have insurance cover.\n",
    "\n",
    "Finally, the data suggests that vehicles that have been in an accident before are more likely to have insurance cover compared to those that haven't. This information could be useful for insurers in creating targeted marketing strategies to attract potential customers who are more likely to buy insurance."
   ]
  },
  {
   "cell_type": "markdown",
   "id": "598bafef-acda-4311-ac0a-0def6e7606ce",
   "metadata": {},
   "source": [
    "### <strong>Rationale for Project Decision</strong>\n",
    "\n",
    " <strong>The following are the facors that influenced the rationale for project decision:</strong>\n",
    "<ol>\n",
    "    <li>Analyze regional differences in insurance purchasing behavior and tailor marketing strategies to specific regions to maximize sales.</li>\n",
    "    <li>Identify factors that influence a customer's decision to buy insurance, and use this information to develop targeted marketing strategies to increase sales.</li>\n",
    "    <li>Develop a predictive model to determine the likelihood of a customer buying insurance based on their age, vehicle age, and annual premium quote.</li>\n",
    "    <li>Identify the most important factors that influence a customer's decision to buy insurance, and prioritize these factors in the development of new insurance products and services.</li>\n",
    "    <li>Improve the customer experience by identifying areas where insurance sales can be improved or streamlined, such as by simplifying the application process or offering discounts to customers with certain characteristics.</li>\n",
    "</ol>\n",
    "\n",
    "<strong>Scope</strong>\n",
    "\n",
    "The scope of this project is to develop a predictive model that can accurately predict whether a customer is likely to buy insurance or not based on their demographic and vehicle-related information. The model could be used to identify potential customers who are likely to buy insurance and target them with marketing campaigns, thereby increasing the company's revenue. Additionally, the model could be used to identify factors that are most important in determining whether a customer is likely to buy insurance or not, which could help the company in developing more effective marketing strategies and improving their products and services.\n",
    "\n",
    "<strong>Benefits</strong><br>\n",
    "The benefits of this project could include:\n",
    "<ul>\n",
    "    <li>Improved understanding of the factors that influence whether customers purchase insurance, which could inform targeted marketing and sales efforts.</li>\n",
    "    <li>More accurate risk assessment and pricing for insurance policies, which could result in more profitable underwriting and more competitive rates for customers.</li>\n",
    "    <li>Improved customer satisfaction, as more targeted and personalized marketing could result in more relevant and valuable insurance offerings.</li>\n",
    "    <li>Improved efficiency in the insurance sales process, as better understanding of customer needs and preferences could streamline sales workflows and reduce time-to-sale.</li>\n",
    "</ul>\n",
    "\n",
    "<strong>Risks</strong><br>\n",
    "There are potential risks associated with this project:\n",
    "<ul>\n",
    "    <li>Ethical concerns: The use of data to make decisions about individuals or groups raises ethical concerns about fairness and discrimination. It is important to ensure that the models developed as part of this project are fair and unbiased, and that they do not perpetuate or reinforce existing inequalities or biases.</li>\n",
    "    <li>Bias in the data: The data used for this project may contain biases or inaccuracies that could affect the accuracy and fairness of the models. For example, if the data primarily includes individuals from a particular demographic group or geographic region, the models may not be effective at predicting behavior in other groups or regions.</li>\n",
    "    <li>Accuracy of the models: The models developed as part of this project may not be accurate or effective at predicting insurance purchasing behavior. This could be due to issues such as overfitting, insufficient data, or incorrect assumptions about the underlying relationships in the data.</li>\n",
    "</ul>"
   ]
  },
  {
   "cell_type": "markdown",
   "id": "91246620-ac92-45a4-af4b-eda6e6f862c2",
   "metadata": {},
   "source": [
    "#### Model Training"
   ]
  },
  {
   "cell_type": "code",
   "execution_count": 23,
   "id": "f7ae9915-6e0d-4e09-8ee4-363e2a82c5e1",
   "metadata": {},
   "outputs": [],
   "source": [
    "# Split the data into training and validation sets\n",
    "X = train_data_copy.drop(['buy'], axis=1)\n",
    "y = train_data_copy['buy']\n",
    "X_train, X_test, y_train, y_test = train_test_split(X, y, test_size=0.2, random_state=42)"
   ]
  },
  {
   "cell_type": "code",
   "execution_count": 24,
   "id": "a7081124-6058-4e51-ae69-d5fdd136a105",
   "metadata": {},
   "outputs": [
    {
     "name": "stdout",
     "output_type": "stream",
     "text": [
      "              precision    recall  f1-score   support\n",
      "\n",
      "           0       0.81      1.00      0.89      3312\n",
      "           1       0.60      0.00      0.01       780\n",
      "\n",
      "    accuracy                           0.81      4092\n",
      "   macro avg       0.70      0.50      0.45      4092\n",
      "weighted avg       0.77      0.81      0.73      4092\n",
      "\n"
     ]
    }
   ],
   "source": [
    "# Train and evaluate the logistic regression model on the training and validation sets\n",
    "log_reg = LogisticRegression(max_iter=1000)\n",
    "log_reg.fit(X_train, y_train)\n",
    "\n",
    "y_pred = log_reg.predict(X_test)\n",
    "print(classification_report(y_test, y_pred))\n"
   ]
  },
  {
   "cell_type": "markdown",
   "id": "948160bc-024f-48bd-b4bd-4fc11b3156ce",
   "metadata": {},
   "source": [
    "The model has an overall accuracy of 81%.\n",
    "\n",
    "In general, the low recall and f1-score for class 1 suggest that the model is not performing well in predicting the positive class (i.e. buying insurance). This may be due to class imbalance, where there are fewer positive samples in the dataset, leading to the model being biased towards predicting the majority class (i.e. not buying insurance)."
   ]
  },
  {
   "cell_type": "code",
   "execution_count": 25,
   "id": "29e8622a-efb7-4805-ac9c-1874d03e88fa",
   "metadata": {},
   "outputs": [
    {
     "name": "stdout",
     "output_type": "stream",
     "text": [
      "              precision    recall  f1-score   support\n",
      "\n",
      "           0       0.82      0.95      0.88      3312\n",
      "           1       0.38      0.12      0.18       780\n",
      "\n",
      "    accuracy                           0.79      4092\n",
      "   macro avg       0.60      0.54      0.53      4092\n",
      "weighted avg       0.74      0.79      0.75      4092\n",
      "\n"
     ]
    }
   ],
   "source": [
    "# Trying a RandomForestClassifier model\n",
    "# Train model\n",
    "rfc = RandomForestClassifier(n_estimators=100, random_state=42)\n",
    "rfc.fit(X_train, y_train)\n",
    "\n",
    "# Make predictions on test set\n",
    "y_pred = rfc.predict(X_test)\n",
    "\n",
    "# Evaluate performance\n",
    "print(classification_report(y_test, y_pred))"
   ]
  },
  {
   "cell_type": "markdown",
   "id": "29fd81d4-6a46-456c-bc60-a75881abf4e3",
   "metadata": {},
   "source": [
    " The model has an accuracy of 79% and seems to have a high precision and recall for class 0, but a low precision and recall for class 1. This means that the model is good at predicting when someone will not buy insurance, but not as good at predicting when someone will buy insurance. To improve the accuracy of the model, we could try using different models, selecting different features, or adjusting the hyperparameters of the current model."
   ]
  },
  {
   "cell_type": "code",
   "execution_count": 26,
   "id": "4de7bce2-84a0-4003-a399-925d2e09bde6",
   "metadata": {},
   "outputs": [
    {
     "name": "stdout",
     "output_type": "stream",
     "text": [
      "              precision    recall  f1-score   support\n",
      "\n",
      "           0       0.81      0.91      0.86      3312\n",
      "           1       0.21      0.10      0.13       780\n",
      "\n",
      "    accuracy                           0.76      4092\n",
      "   macro avg       0.51      0.51      0.50      4092\n",
      "weighted avg       0.70      0.76      0.72      4092\n",
      "\n"
     ]
    }
   ],
   "source": [
    "# Create a KNN classifier with k=5\n",
    "knn = KNeighborsClassifier(n_neighbors=3)\n",
    "\n",
    "# Train the model on the training data\n",
    "knn.fit(X_train, y_train)\n",
    "\n",
    "# Make predictions on the test data\n",
    "y_pred = knn.predict(X_test)\n",
    "\n",
    "# Print the classification report\n",
    "print(classification_report(y_test, y_pred))"
   ]
  },
  {
   "cell_type": "code",
   "execution_count": 27,
   "id": "1b52c727-e178-442f-a754-f7b7f533a961",
   "metadata": {},
   "outputs": [
    {
     "name": "stdout",
     "output_type": "stream",
     "text": [
      "Best hyperparameters: {'n_neighbors': 3, 'weights': 'distance'}\n"
     ]
    }
   ],
   "source": [
    "# Define the hyperparameter grid to search over\n",
    "param_grid = {'n_neighbors': [3, 5, 7, 9, 11], 'weights': ['uniform', 'distance']}\n",
    "\n",
    "# Perform grid search with cross-validation to find the best hyperparameters\n",
    "grid_search = GridSearchCV(knn, param_grid, cv=5, scoring='recall', n_jobs=-1)\n",
    "grid_search.fit(X_train, y_train)\n",
    "\n",
    "# Print the best hyperparameters found\n",
    "print('Best hyperparameters:', grid_search.best_params_)"
   ]
  },
  {
   "cell_type": "code",
   "execution_count": 28,
   "id": "15b00c65-121f-47d2-aaea-ef740c784e0e",
   "metadata": {},
   "outputs": [],
   "source": [
    "# # define the SVM model\n",
    "# svm = SVC()\n",
    "\n",
    "# # define the parameter grid\n",
    "# param_grid = {'C': [0.1, 1, 10, 100],\n",
    "#               'kernel': ['linear', 'rbf', 'poly', 'sigmoid']}\n",
    "\n",
    "# # perform grid search with cross-validation\n",
    "# grid_search = GridSearchCV(svm, param_grid=param_grid, cv=5, n_jobs=-1)\n",
    "\n",
    "# # fit the grid search to the training data\n",
    "# grid_search.fit(X_train, y_train)\n",
    "\n",
    "# # print the best parameters and score\n",
    "# print(\"Best parameters: \", grid_search.best_params_)\n",
    "# print(\"Best score: \", grid_search.best_score_)"
   ]
  },
  {
   "cell_type": "markdown",
   "id": "2e64345c-e0d3-490e-8823-decf04fff915",
   "metadata": {},
   "source": [
    "#### Make predictions on the score data"
   ]
  },
  {
   "cell_type": "code",
   "execution_count": 29,
   "id": "086832d2-6597-42b4-be0a-925cf72e9e49",
   "metadata": {},
   "outputs": [],
   "source": [
    "# import the score data\n",
    "score_data = pd.read_csv('bzan6357_insurance_3_SCORE.csv')"
   ]
  },
  {
   "cell_type": "code",
   "execution_count": 30,
   "id": "984158ec-475e-4356-9f3c-8cf5e21cbe7d",
   "metadata": {},
   "outputs": [
    {
     "data": {
      "text/html": [
       "<div>\n",
       "<style scoped>\n",
       "    .dataframe tbody tr th:only-of-type {\n",
       "        vertical-align: middle;\n",
       "    }\n",
       "\n",
       "    .dataframe tbody tr th {\n",
       "        vertical-align: top;\n",
       "    }\n",
       "\n",
       "    .dataframe thead th {\n",
       "        text-align: right;\n",
       "    }\n",
       "</style>\n",
       "<table border=\"1\" class=\"dataframe\">\n",
       "  <thead>\n",
       "    <tr style=\"text-align: right;\">\n",
       "      <th></th>\n",
       "      <th>id_new</th>\n",
       "      <th>age</th>\n",
       "      <th>gender</th>\n",
       "      <th>tenure</th>\n",
       "      <th>region</th>\n",
       "      <th>dl</th>\n",
       "      <th>has_v_insurance</th>\n",
       "      <th>v_age</th>\n",
       "      <th>v_accident</th>\n",
       "      <th>v_prem_quote</th>\n",
       "      <th>cs_rep</th>\n",
       "    </tr>\n",
       "  </thead>\n",
       "  <tbody>\n",
       "    <tr>\n",
       "      <th>0</th>\n",
       "      <td>a00020460</td>\n",
       "      <td>46</td>\n",
       "      <td>male</td>\n",
       "      <td>124</td>\n",
       "      <td>6</td>\n",
       "      <td>1</td>\n",
       "      <td>0</td>\n",
       "      <td>1-2 year</td>\n",
       "      <td>yes</td>\n",
       "      <td>26226.0</td>\n",
       "      <td>163</td>\n",
       "    </tr>\n",
       "    <tr>\n",
       "      <th>1</th>\n",
       "      <td>a00020461</td>\n",
       "      <td>25</td>\n",
       "      <td>female</td>\n",
       "      <td>285</td>\n",
       "      <td>46</td>\n",
       "      <td>1</td>\n",
       "      <td>0</td>\n",
       "      <td>&lt; 1 year</td>\n",
       "      <td>yes</td>\n",
       "      <td>44564.0</td>\n",
       "      <td>154</td>\n",
       "    </tr>\n",
       "    <tr>\n",
       "      <th>2</th>\n",
       "      <td>a00020462</td>\n",
       "      <td>42</td>\n",
       "      <td>male</td>\n",
       "      <td>95</td>\n",
       "      <td>28</td>\n",
       "      <td>1</td>\n",
       "      <td>1</td>\n",
       "      <td>1-2 year</td>\n",
       "      <td>no</td>\n",
       "      <td>30796.0</td>\n",
       "      <td>122</td>\n",
       "    </tr>\n",
       "    <tr>\n",
       "      <th>3</th>\n",
       "      <td>a00020463</td>\n",
       "      <td>39</td>\n",
       "      <td>female</td>\n",
       "      <td>229</td>\n",
       "      <td>26</td>\n",
       "      <td>1</td>\n",
       "      <td>0</td>\n",
       "      <td>1-2 year</td>\n",
       "      <td>yes</td>\n",
       "      <td>35669.0</td>\n",
       "      <td>163</td>\n",
       "    </tr>\n",
       "    <tr>\n",
       "      <th>4</th>\n",
       "      <td>a00020464</td>\n",
       "      <td>42</td>\n",
       "      <td>male</td>\n",
       "      <td>114</td>\n",
       "      <td>28</td>\n",
       "      <td>1</td>\n",
       "      <td>0</td>\n",
       "      <td>1-2 year</td>\n",
       "      <td>yes</td>\n",
       "      <td>32039.0</td>\n",
       "      <td>122</td>\n",
       "    </tr>\n",
       "  </tbody>\n",
       "</table>\n",
       "</div>"
      ],
      "text/plain": [
       "      id_new  age  gender  tenure  region  dl  has_v_insurance     v_age  \\\n",
       "0  a00020460   46    male     124       6   1                0  1-2 year   \n",
       "1  a00020461   25  female     285      46   1                0  < 1 year   \n",
       "2  a00020462   42    male      95      28   1                1  1-2 year   \n",
       "3  a00020463   39  female     229      26   1                0  1-2 year   \n",
       "4  a00020464   42    male     114      28   1                0  1-2 year   \n",
       "\n",
       "  v_accident  v_prem_quote  cs_rep  \n",
       "0        yes       26226.0     163  \n",
       "1        yes       44564.0     154  \n",
       "2         no       30796.0     122  \n",
       "3        yes       35669.0     163  \n",
       "4        yes       32039.0     122  "
      ]
     },
     "execution_count": 30,
     "metadata": {},
     "output_type": "execute_result"
    }
   ],
   "source": [
    "score_data.head()"
   ]
  },
  {
   "cell_type": "code",
   "execution_count": 31,
   "id": "08a72e5a-c423-470b-a85f-13dc5368b647",
   "metadata": {},
   "outputs": [
    {
     "data": {
      "text/html": [
       "<div>\n",
       "<style scoped>\n",
       "    .dataframe tbody tr th:only-of-type {\n",
       "        vertical-align: middle;\n",
       "    }\n",
       "\n",
       "    .dataframe tbody tr th {\n",
       "        vertical-align: top;\n",
       "    }\n",
       "\n",
       "    .dataframe thead th {\n",
       "        text-align: right;\n",
       "    }\n",
       "</style>\n",
       "<table border=\"1\" class=\"dataframe\">\n",
       "  <thead>\n",
       "    <tr style=\"text-align: right;\">\n",
       "      <th></th>\n",
       "      <th>id_new</th>\n",
       "      <th>age</th>\n",
       "      <th>tenure</th>\n",
       "      <th>region</th>\n",
       "      <th>dl</th>\n",
       "      <th>has_v_insurance</th>\n",
       "      <th>v_age</th>\n",
       "      <th>v_prem_quote</th>\n",
       "      <th>cs_rep</th>\n",
       "      <th>gender_female</th>\n",
       "      <th>gender_male</th>\n",
       "      <th>v_accident_no</th>\n",
       "      <th>v_accident_yes</th>\n",
       "      <th>v_age_1-2 year</th>\n",
       "      <th>v_age_&lt; 1 year</th>\n",
       "      <th>v_age_&gt; 2 years</th>\n",
       "    </tr>\n",
       "  </thead>\n",
       "  <tbody>\n",
       "    <tr>\n",
       "      <th>0</th>\n",
       "      <td>a00020460</td>\n",
       "      <td>46</td>\n",
       "      <td>124</td>\n",
       "      <td>6</td>\n",
       "      <td>1</td>\n",
       "      <td>0</td>\n",
       "      <td>1-2 year</td>\n",
       "      <td>26226.0</td>\n",
       "      <td>163</td>\n",
       "      <td>0</td>\n",
       "      <td>1</td>\n",
       "      <td>0</td>\n",
       "      <td>1</td>\n",
       "      <td>1</td>\n",
       "      <td>0</td>\n",
       "      <td>0</td>\n",
       "    </tr>\n",
       "    <tr>\n",
       "      <th>1</th>\n",
       "      <td>a00020461</td>\n",
       "      <td>25</td>\n",
       "      <td>285</td>\n",
       "      <td>46</td>\n",
       "      <td>1</td>\n",
       "      <td>0</td>\n",
       "      <td>&lt; 1 year</td>\n",
       "      <td>44564.0</td>\n",
       "      <td>154</td>\n",
       "      <td>1</td>\n",
       "      <td>0</td>\n",
       "      <td>0</td>\n",
       "      <td>1</td>\n",
       "      <td>0</td>\n",
       "      <td>1</td>\n",
       "      <td>0</td>\n",
       "    </tr>\n",
       "    <tr>\n",
       "      <th>2</th>\n",
       "      <td>a00020462</td>\n",
       "      <td>42</td>\n",
       "      <td>95</td>\n",
       "      <td>28</td>\n",
       "      <td>1</td>\n",
       "      <td>1</td>\n",
       "      <td>1-2 year</td>\n",
       "      <td>30796.0</td>\n",
       "      <td>122</td>\n",
       "      <td>0</td>\n",
       "      <td>1</td>\n",
       "      <td>1</td>\n",
       "      <td>0</td>\n",
       "      <td>1</td>\n",
       "      <td>0</td>\n",
       "      <td>0</td>\n",
       "    </tr>\n",
       "    <tr>\n",
       "      <th>3</th>\n",
       "      <td>a00020463</td>\n",
       "      <td>39</td>\n",
       "      <td>229</td>\n",
       "      <td>26</td>\n",
       "      <td>1</td>\n",
       "      <td>0</td>\n",
       "      <td>1-2 year</td>\n",
       "      <td>35669.0</td>\n",
       "      <td>163</td>\n",
       "      <td>1</td>\n",
       "      <td>0</td>\n",
       "      <td>0</td>\n",
       "      <td>1</td>\n",
       "      <td>1</td>\n",
       "      <td>0</td>\n",
       "      <td>0</td>\n",
       "    </tr>\n",
       "    <tr>\n",
       "      <th>4</th>\n",
       "      <td>a00020464</td>\n",
       "      <td>42</td>\n",
       "      <td>114</td>\n",
       "      <td>28</td>\n",
       "      <td>1</td>\n",
       "      <td>0</td>\n",
       "      <td>1-2 year</td>\n",
       "      <td>32039.0</td>\n",
       "      <td>122</td>\n",
       "      <td>0</td>\n",
       "      <td>1</td>\n",
       "      <td>0</td>\n",
       "      <td>1</td>\n",
       "      <td>1</td>\n",
       "      <td>0</td>\n",
       "      <td>0</td>\n",
       "    </tr>\n",
       "  </tbody>\n",
       "</table>\n",
       "</div>"
      ],
      "text/plain": [
       "      id_new  age  tenure  region  dl  has_v_insurance     v_age  \\\n",
       "0  a00020460   46     124       6   1                0  1-2 year   \n",
       "1  a00020461   25     285      46   1                0  < 1 year   \n",
       "2  a00020462   42      95      28   1                1  1-2 year   \n",
       "3  a00020463   39     229      26   1                0  1-2 year   \n",
       "4  a00020464   42     114      28   1                0  1-2 year   \n",
       "\n",
       "   v_prem_quote  cs_rep  gender_female  gender_male  v_accident_no  \\\n",
       "0       26226.0     163              0            1              0   \n",
       "1       44564.0     154              1            0              0   \n",
       "2       30796.0     122              0            1              1   \n",
       "3       35669.0     163              1            0              0   \n",
       "4       32039.0     122              0            1              0   \n",
       "\n",
       "   v_accident_yes  v_age_1-2 year  v_age_< 1 year  v_age_> 2 years  \n",
       "0               1               1               0                0  \n",
       "1               1               0               1                0  \n",
       "2               0               1               0                0  \n",
       "3               1               1               0                0  \n",
       "4               1               1               0                0  "
      ]
     },
     "execution_count": 31,
     "metadata": {},
     "output_type": "execute_result"
    }
   ],
   "source": [
    "# Preprocess the score data\n",
    "score_data_copy = score_data.copy()\n",
    "\n",
    "score_data_copy = pd.get_dummies(score_data_copy, columns=['gender', 'v_accident'])\n",
    "\n",
    "v_age_dummies = pd.get_dummies(score_data_copy['v_age'], prefix='v_age')\n",
    "score_data_copy = pd.concat([score_data_copy, v_age_dummies], axis=1)\n",
    "score_data_copy.head()\n"
   ]
  },
  {
   "cell_type": "code",
   "execution_count": 32,
   "id": "3655eaa4-6c8e-47b2-9dde-e708a90e13b1",
   "metadata": {},
   "outputs": [],
   "source": [
    "score_data_copy.drop('v_age', axis=1, inplace=True)\n",
    "score_data_copy.drop('id_new', axis=1, inplace=True)"
   ]
  },
  {
   "cell_type": "code",
   "execution_count": 33,
   "id": "63972f2c-ef44-4fd2-8b97-4381af661d4e",
   "metadata": {},
   "outputs": [],
   "source": [
    "# Make predictions on the score data using logistic regression and random forest classifieer models\n",
    "\n",
    "score_data_pred = log_reg.predict_proba(score_data_copy)\n",
    "\n",
    "score_data_pred_rfc = rfc.predict_proba(score_data_copy)\n"
   ]
  },
  {
   "cell_type": "code",
   "execution_count": 34,
   "id": "df2f4c50-2422-4e44-b59e-5e34fa2c9fae",
   "metadata": {},
   "outputs": [
    {
     "name": "stdout",
     "output_type": "stream",
     "text": [
      "Logistic regression: [[0.71456414 0.28543586]\n",
      " [0.81934206 0.18065794]\n",
      " [0.98414187 0.01585813]\n",
      " ...\n",
      " [0.99237201 0.00762799]\n",
      " [0.81690915 0.18309085]\n",
      " [0.87259632 0.12740368]]\n",
      "RFC: [[0.41 0.59]\n",
      " [0.71 0.29]\n",
      " [1.   0.  ]\n",
      " ...\n",
      " [1.   0.  ]\n",
      " [0.96 0.04]\n",
      " [0.94 0.06]]\n"
     ]
    }
   ],
   "source": [
    "# printing the prediciton scores\n",
    "\n",
    "print(f'Logistic regression: {score_data_pred}')\n",
    "print(f'RFC: {score_data_pred_rfc}')"
   ]
  },
  {
   "cell_type": "markdown",
   "id": "c08b814d-b44d-472c-8f5d-8fe7a3a601c3",
   "metadata": {},
   "source": [
    "#### Evaluating the model using both ROC AUC and F1 score\n"
   ]
  },
  {
   "cell_type": "code",
   "execution_count": 35,
   "id": "40c17a34-cbee-4bb3-8450-1a8bbad57220",
   "metadata": {},
   "outputs": [
    {
     "name": "stdout",
     "output_type": "stream",
     "text": [
      "ROC AUC score:  0.5052025269416573\n",
      "F1 score:  0.13169446883230906\n"
     ]
    }
   ],
   "source": [
    "y_true = y_test\n",
    "\n",
    "roc_auc = roc_auc_score(y_true, y_pred)\n",
    "f1 = f1_score(y_true, y_pred)\n",
    "\n",
    "print(\"ROC AUC score: \", roc_auc)\n",
    "print(\"F1 score: \", f1)"
   ]
  },
  {
   "cell_type": "code",
   "execution_count": 36,
   "id": "7b6758c7-90d8-4b6f-8cee-e79eb9cadda7",
   "metadata": {},
   "outputs": [
    {
     "name": "stdout",
     "output_type": "stream",
     "text": [
      "ROC AUC: 0.738621988418184\n",
      "F1 Score: 0.13169446883230906\n"
     ]
    }
   ],
   "source": [
    "# using kNN Model\n",
    "y_pred_prob = rfc.predict_proba(X_test)[:, 1]\n",
    "\n",
    "roc_auc = roc_auc_score(y_true, y_pred_prob)\n",
    "f1 = f1_score(y_true, y_pred)\n",
    "\n",
    "print(\"ROC AUC:\", roc_auc)\n",
    "print(\"F1 Score:\", f1)\n"
   ]
  },
  {
   "cell_type": "markdown",
   "id": "e9ad3e66-9526-4035-bfbb-d9fe6f92e87b",
   "metadata": {},
   "source": [
    "The ROC AUC score and F1 score indicate the performance of the model in different ways. The ROC AUC score measures the ability of the model to distinguish between positive and negative samples across all possible threshold values, while the F1 score measures the balance between precision and recall of the positive class.\n",
    "\n",
    "In this case, the ROC AUC score of 0.739 suggests that the model performs moderately well in distinguishing between positive and negative samples. An AUC score of 1 indicates a perfect classifier, while a score of 0.5 indicates a random guess.\n",
    "\n",
    "The F1 score of 0.132 indicates that the model performs poorly in terms of correctly identifying positive samples while maintaining a low false positive rate. The F1 score ranges from 0 to 1, with 1 indicating perfect precision and recall of the positive class.\n",
    "\n",
    "Overall, these scores suggest that the model has room for improvement and may require further tuning or a different approach to achieve better performance."
   ]
  },
  {
   "cell_type": "markdown",
   "id": "1bb39441-d1f2-42a6-9d2a-7e5430c47a37",
   "metadata": {},
   "source": [
    "### <strong>Results and Interpretation</strong>\n",
    "\n",
    "In this project, we used three different models to predict whether customers will buy insurance or not: logistic regression, decision tree, and k-Nearest Neighbors (KNN). We used these models to predict the outcome variable and evaluated their performance using F1 score and ROC AUC.\n",
    "\n",
    "The logistic regression model had an F1 score of 0.013 and an ROC AUC of 0.505. The KNN had an F1 score of 0.182 and an ROC AUC of 0.552. The RandomForestClassifier model had an F1 score of 0.132 and an ROC AUC of 0.739.\n",
    "\n",
    "Based on these results, we can conclude that the logistic regression model had the lowest performance, while the RandomForest model had the highest performance. However, all three models had a low F1 score for class 1, which means that they were not very effective in predicting customers who are likely to buy insurance.\n",
    "\n",
    "Therefore, we need to explore other models and techniques that can help us to improve the performance of the models. We may also need to collect more data or engineer more features that can help to differentiate between customers who are likely to buy insurance and those who are not."
   ]
  },
  {
   "cell_type": "code",
   "execution_count": 90,
   "id": "08dd7723-689f-4a88-9652-8e537a82d0b7",
   "metadata": {},
   "outputs": [
    {
     "data": {
      "text/html": [
       "<div>\n",
       "<style scoped>\n",
       "    .dataframe tbody tr th:only-of-type {\n",
       "        vertical-align: middle;\n",
       "    }\n",
       "\n",
       "    .dataframe tbody tr th {\n",
       "        vertical-align: top;\n",
       "    }\n",
       "\n",
       "    .dataframe thead th {\n",
       "        text-align: right;\n",
       "    }\n",
       "</style>\n",
       "<table border=\"1\" class=\"dataframe\">\n",
       "  <thead>\n",
       "    <tr style=\"text-align: right;\">\n",
       "      <th></th>\n",
       "      <th>id_new</th>\n",
       "      <th>age</th>\n",
       "      <th>gender</th>\n",
       "      <th>tenure</th>\n",
       "      <th>region</th>\n",
       "      <th>dl</th>\n",
       "      <th>has_v_insurance</th>\n",
       "      <th>v_age</th>\n",
       "      <th>v_accident</th>\n",
       "      <th>v_prem_quote</th>\n",
       "      <th>cs_rep</th>\n",
       "    </tr>\n",
       "  </thead>\n",
       "  <tbody>\n",
       "    <tr>\n",
       "      <th>0</th>\n",
       "      <td>a00020460</td>\n",
       "      <td>46</td>\n",
       "      <td>male</td>\n",
       "      <td>124</td>\n",
       "      <td>6</td>\n",
       "      <td>1</td>\n",
       "      <td>0</td>\n",
       "      <td>1-2 year</td>\n",
       "      <td>yes</td>\n",
       "      <td>26226.0</td>\n",
       "      <td>163</td>\n",
       "    </tr>\n",
       "    <tr>\n",
       "      <th>1</th>\n",
       "      <td>a00020461</td>\n",
       "      <td>25</td>\n",
       "      <td>female</td>\n",
       "      <td>285</td>\n",
       "      <td>46</td>\n",
       "      <td>1</td>\n",
       "      <td>0</td>\n",
       "      <td>&lt; 1 year</td>\n",
       "      <td>yes</td>\n",
       "      <td>44564.0</td>\n",
       "      <td>154</td>\n",
       "    </tr>\n",
       "    <tr>\n",
       "      <th>2</th>\n",
       "      <td>a00020462</td>\n",
       "      <td>42</td>\n",
       "      <td>male</td>\n",
       "      <td>95</td>\n",
       "      <td>28</td>\n",
       "      <td>1</td>\n",
       "      <td>1</td>\n",
       "      <td>1-2 year</td>\n",
       "      <td>no</td>\n",
       "      <td>30796.0</td>\n",
       "      <td>122</td>\n",
       "    </tr>\n",
       "    <tr>\n",
       "      <th>3</th>\n",
       "      <td>a00020463</td>\n",
       "      <td>39</td>\n",
       "      <td>female</td>\n",
       "      <td>229</td>\n",
       "      <td>26</td>\n",
       "      <td>1</td>\n",
       "      <td>0</td>\n",
       "      <td>1-2 year</td>\n",
       "      <td>yes</td>\n",
       "      <td>35669.0</td>\n",
       "      <td>163</td>\n",
       "    </tr>\n",
       "    <tr>\n",
       "      <th>4</th>\n",
       "      <td>a00020464</td>\n",
       "      <td>42</td>\n",
       "      <td>male</td>\n",
       "      <td>114</td>\n",
       "      <td>28</td>\n",
       "      <td>1</td>\n",
       "      <td>0</td>\n",
       "      <td>1-2 year</td>\n",
       "      <td>yes</td>\n",
       "      <td>32039.0</td>\n",
       "      <td>122</td>\n",
       "    </tr>\n",
       "  </tbody>\n",
       "</table>\n",
       "</div>"
      ],
      "text/plain": [
       "      id_new  age  gender  tenure  region  dl  has_v_insurance     v_age  \\\n",
       "0  a00020460   46    male     124       6   1                0  1-2 year   \n",
       "1  a00020461   25  female     285      46   1                0  < 1 year   \n",
       "2  a00020462   42    male      95      28   1                1  1-2 year   \n",
       "3  a00020463   39  female     229      26   1                0  1-2 year   \n",
       "4  a00020464   42    male     114      28   1                0  1-2 year   \n",
       "\n",
       "  v_accident  v_prem_quote  cs_rep  \n",
       "0        yes       26226.0     163  \n",
       "1        yes       44564.0     154  \n",
       "2         no       30796.0     122  \n",
       "3        yes       35669.0     163  \n",
       "4        yes       32039.0     122  "
      ]
     },
     "execution_count": 90,
     "metadata": {},
     "output_type": "execute_result"
    }
   ],
   "source": [
    "df_submit = score_data.copy()\n",
    "df_submit.head()"
   ]
  },
  {
   "cell_type": "code",
   "execution_count": 91,
   "id": "479519bc-6c86-4cbf-a280-c43cc4ff39a9",
   "metadata": {},
   "outputs": [
    {
     "data": {
      "text/html": [
       "<div>\n",
       "<style scoped>\n",
       "    .dataframe tbody tr th:only-of-type {\n",
       "        vertical-align: middle;\n",
       "    }\n",
       "\n",
       "    .dataframe tbody tr th {\n",
       "        vertical-align: top;\n",
       "    }\n",
       "\n",
       "    .dataframe thead th {\n",
       "        text-align: right;\n",
       "    }\n",
       "</style>\n",
       "<table border=\"1\" class=\"dataframe\">\n",
       "  <thead>\n",
       "    <tr style=\"text-align: right;\">\n",
       "      <th></th>\n",
       "      <th>age</th>\n",
       "      <th>tenure</th>\n",
       "      <th>region</th>\n",
       "      <th>dl</th>\n",
       "      <th>has_v_insurance</th>\n",
       "      <th>v_prem_quote</th>\n",
       "      <th>cs_rep</th>\n",
       "      <th>gender_female</th>\n",
       "      <th>gender_male</th>\n",
       "      <th>v_accident_no</th>\n",
       "      <th>v_accident_yes</th>\n",
       "      <th>v_age_1-2 year</th>\n",
       "      <th>v_age_&lt; 1 year</th>\n",
       "      <th>v_age_&gt; 2 years</th>\n",
       "    </tr>\n",
       "  </thead>\n",
       "  <tbody>\n",
       "    <tr>\n",
       "      <th>0</th>\n",
       "      <td>46</td>\n",
       "      <td>124</td>\n",
       "      <td>6</td>\n",
       "      <td>1</td>\n",
       "      <td>0</td>\n",
       "      <td>26226.0</td>\n",
       "      <td>163</td>\n",
       "      <td>0</td>\n",
       "      <td>1</td>\n",
       "      <td>0</td>\n",
       "      <td>1</td>\n",
       "      <td>1</td>\n",
       "      <td>0</td>\n",
       "      <td>0</td>\n",
       "    </tr>\n",
       "    <tr>\n",
       "      <th>1</th>\n",
       "      <td>25</td>\n",
       "      <td>285</td>\n",
       "      <td>46</td>\n",
       "      <td>1</td>\n",
       "      <td>0</td>\n",
       "      <td>44564.0</td>\n",
       "      <td>154</td>\n",
       "      <td>1</td>\n",
       "      <td>0</td>\n",
       "      <td>0</td>\n",
       "      <td>1</td>\n",
       "      <td>0</td>\n",
       "      <td>1</td>\n",
       "      <td>0</td>\n",
       "    </tr>\n",
       "    <tr>\n",
       "      <th>2</th>\n",
       "      <td>42</td>\n",
       "      <td>95</td>\n",
       "      <td>28</td>\n",
       "      <td>1</td>\n",
       "      <td>1</td>\n",
       "      <td>30796.0</td>\n",
       "      <td>122</td>\n",
       "      <td>0</td>\n",
       "      <td>1</td>\n",
       "      <td>1</td>\n",
       "      <td>0</td>\n",
       "      <td>1</td>\n",
       "      <td>0</td>\n",
       "      <td>0</td>\n",
       "    </tr>\n",
       "    <tr>\n",
       "      <th>3</th>\n",
       "      <td>39</td>\n",
       "      <td>229</td>\n",
       "      <td>26</td>\n",
       "      <td>1</td>\n",
       "      <td>0</td>\n",
       "      <td>35669.0</td>\n",
       "      <td>163</td>\n",
       "      <td>1</td>\n",
       "      <td>0</td>\n",
       "      <td>0</td>\n",
       "      <td>1</td>\n",
       "      <td>1</td>\n",
       "      <td>0</td>\n",
       "      <td>0</td>\n",
       "    </tr>\n",
       "    <tr>\n",
       "      <th>4</th>\n",
       "      <td>42</td>\n",
       "      <td>114</td>\n",
       "      <td>28</td>\n",
       "      <td>1</td>\n",
       "      <td>0</td>\n",
       "      <td>32039.0</td>\n",
       "      <td>122</td>\n",
       "      <td>0</td>\n",
       "      <td>1</td>\n",
       "      <td>0</td>\n",
       "      <td>1</td>\n",
       "      <td>1</td>\n",
       "      <td>0</td>\n",
       "      <td>0</td>\n",
       "    </tr>\n",
       "  </tbody>\n",
       "</table>\n",
       "</div>"
      ],
      "text/plain": [
       "   age  tenure  region  dl  has_v_insurance  v_prem_quote  cs_rep  \\\n",
       "0   46     124       6   1                0       26226.0     163   \n",
       "1   25     285      46   1                0       44564.0     154   \n",
       "2   42      95      28   1                1       30796.0     122   \n",
       "3   39     229      26   1                0       35669.0     163   \n",
       "4   42     114      28   1                0       32039.0     122   \n",
       "\n",
       "   gender_female  gender_male  v_accident_no  v_accident_yes  v_age_1-2 year  \\\n",
       "0              0            1              0               1               1   \n",
       "1              1            0              0               1               0   \n",
       "2              0            1              1               0               1   \n",
       "3              1            0              0               1               1   \n",
       "4              0            1              0               1               1   \n",
       "\n",
       "   v_age_< 1 year  v_age_> 2 years  \n",
       "0               0                0  \n",
       "1               1                0  \n",
       "2               0                0  \n",
       "3               0                0  \n",
       "4               0                0  "
      ]
     },
     "execution_count": 91,
     "metadata": {},
     "output_type": "execute_result"
    }
   ],
   "source": [
    "# Preprocess the score data\n",
    "df_submit = pd.get_dummies(df_submit, columns=['gender', 'v_accident'])\n",
    "\n",
    "v_age_dummies = pd.get_dummies(df_submit['v_age'], prefix='v_age')\n",
    "df_submit = pd.concat([df_submit, v_age_dummies], axis=1)\n",
    "df_submit.drop('id_new', axis=1, inplace=True)\n",
    "df_submit.drop('v_age', axis=1, inplace=True)\n",
    "\n",
    "\n",
    "df_submit.head()"
   ]
  },
  {
   "cell_type": "code",
   "execution_count": 92,
   "id": "1cf90712-e883-43af-8357-2d277f8d5da6",
   "metadata": {},
   "outputs": [],
   "source": [
    "# convert to numpy array\n",
    "X_score = np.array(df_submit)\n"
   ]
  },
  {
   "cell_type": "code",
   "execution_count": 93,
   "id": "87d4cb17-21fd-46ec-9e1e-ec22eb66f338",
   "metadata": {},
   "outputs": [
    {
     "name": "stderr",
     "output_type": "stream",
     "text": [
      "/home/ok/anaconda3/lib/python3.9/site-packages/sklearn/base.py:450: UserWarning: X does not have valid feature names, but RandomForestClassifier was fitted with feature names\n",
      "  warnings.warn(\n"
     ]
    }
   ],
   "source": [
    "y_pred_score = rfc.predict(X_score)\n"
   ]
  },
  {
   "cell_type": "code",
   "execution_count": 94,
   "id": "8c5ec89f-bbc2-4f6f-bad2-c17b2561181a",
   "metadata": {},
   "outputs": [
    {
     "name": "stderr",
     "output_type": "stream",
     "text": [
      "/home/ok/anaconda3/lib/python3.9/site-packages/sklearn/base.py:450: UserWarning: X does not have valid feature names, but RandomForestClassifier was fitted with feature names\n",
      "  warnings.warn(\n"
     ]
    }
   ],
   "source": [
    "# Generate predicted probabilities on X_score\n",
    "y_pred_prob_score = rfc.predict_proba(X_score)"
   ]
  },
  {
   "cell_type": "code",
   "execution_count": 95,
   "id": "fff6fbf4-6436-432e-b9b7-be902b215bbc",
   "metadata": {},
   "outputs": [],
   "source": [
    "# Extract the probability of the positive class (class 1)\n",
    "y_pred_prob_score = y_pred_prob_score[:, 1]"
   ]
  },
  {
   "cell_type": "code",
   "execution_count": 96,
   "id": "6da8d97d-01d4-4d87-b6a8-187cbe8c7c9c",
   "metadata": {},
   "outputs": [
    {
     "name": "stderr",
     "output_type": "stream",
     "text": [
      "/home/ok/anaconda3/lib/python3.9/site-packages/sklearn/base.py:450: UserWarning: X does not have valid feature names, but RandomForestClassifier was fitted with feature names\n",
      "  warnings.warn(\n"
     ]
    }
   ],
   "source": [
    "a_out_score = rfc.predict_proba(X_score)\n"
   ]
  },
  {
   "cell_type": "code",
   "execution_count": 97,
   "id": "eb83dd1e-2e22-45f2-bba8-877f3cc5bcf0",
   "metadata": {},
   "outputs": [],
   "source": [
    "# Add the predicted probabilities for class 1 to the SCORE data\n",
    "df_submit['probability'] = a_out_score[:, 1]\n"
   ]
  },
  {
   "cell_type": "code",
   "execution_count": 98,
   "id": "5858174d-512a-4c1f-a97e-550a5121d913",
   "metadata": {},
   "outputs": [
    {
     "data": {
      "text/html": [
       "<div>\n",
       "<style scoped>\n",
       "    .dataframe tbody tr th:only-of-type {\n",
       "        vertical-align: middle;\n",
       "    }\n",
       "\n",
       "    .dataframe tbody tr th {\n",
       "        vertical-align: top;\n",
       "    }\n",
       "\n",
       "    .dataframe thead th {\n",
       "        text-align: right;\n",
       "    }\n",
       "</style>\n",
       "<table border=\"1\" class=\"dataframe\">\n",
       "  <thead>\n",
       "    <tr style=\"text-align: right;\">\n",
       "      <th></th>\n",
       "      <th>age</th>\n",
       "      <th>tenure</th>\n",
       "      <th>region</th>\n",
       "      <th>dl</th>\n",
       "      <th>has_v_insurance</th>\n",
       "      <th>v_prem_quote</th>\n",
       "      <th>cs_rep</th>\n",
       "      <th>gender_female</th>\n",
       "      <th>gender_male</th>\n",
       "      <th>v_accident_no</th>\n",
       "      <th>v_accident_yes</th>\n",
       "      <th>v_age_1-2 year</th>\n",
       "      <th>v_age_&lt; 1 year</th>\n",
       "      <th>v_age_&gt; 2 years</th>\n",
       "      <th>probability</th>\n",
       "    </tr>\n",
       "  </thead>\n",
       "  <tbody>\n",
       "    <tr>\n",
       "      <th>0</th>\n",
       "      <td>46</td>\n",
       "      <td>124</td>\n",
       "      <td>6</td>\n",
       "      <td>1</td>\n",
       "      <td>0</td>\n",
       "      <td>26226.0</td>\n",
       "      <td>163</td>\n",
       "      <td>0</td>\n",
       "      <td>1</td>\n",
       "      <td>0</td>\n",
       "      <td>1</td>\n",
       "      <td>1</td>\n",
       "      <td>0</td>\n",
       "      <td>0</td>\n",
       "      <td>0.59</td>\n",
       "    </tr>\n",
       "    <tr>\n",
       "      <th>1</th>\n",
       "      <td>25</td>\n",
       "      <td>285</td>\n",
       "      <td>46</td>\n",
       "      <td>1</td>\n",
       "      <td>0</td>\n",
       "      <td>44564.0</td>\n",
       "      <td>154</td>\n",
       "      <td>1</td>\n",
       "      <td>0</td>\n",
       "      <td>0</td>\n",
       "      <td>1</td>\n",
       "      <td>0</td>\n",
       "      <td>1</td>\n",
       "      <td>0</td>\n",
       "      <td>0.29</td>\n",
       "    </tr>\n",
       "    <tr>\n",
       "      <th>2</th>\n",
       "      <td>42</td>\n",
       "      <td>95</td>\n",
       "      <td>28</td>\n",
       "      <td>1</td>\n",
       "      <td>1</td>\n",
       "      <td>30796.0</td>\n",
       "      <td>122</td>\n",
       "      <td>0</td>\n",
       "      <td>1</td>\n",
       "      <td>1</td>\n",
       "      <td>0</td>\n",
       "      <td>1</td>\n",
       "      <td>0</td>\n",
       "      <td>0</td>\n",
       "      <td>0.00</td>\n",
       "    </tr>\n",
       "    <tr>\n",
       "      <th>3</th>\n",
       "      <td>39</td>\n",
       "      <td>229</td>\n",
       "      <td>26</td>\n",
       "      <td>1</td>\n",
       "      <td>0</td>\n",
       "      <td>35669.0</td>\n",
       "      <td>163</td>\n",
       "      <td>1</td>\n",
       "      <td>0</td>\n",
       "      <td>0</td>\n",
       "      <td>1</td>\n",
       "      <td>1</td>\n",
       "      <td>0</td>\n",
       "      <td>0</td>\n",
       "      <td>0.33</td>\n",
       "    </tr>\n",
       "    <tr>\n",
       "      <th>4</th>\n",
       "      <td>42</td>\n",
       "      <td>114</td>\n",
       "      <td>28</td>\n",
       "      <td>1</td>\n",
       "      <td>0</td>\n",
       "      <td>32039.0</td>\n",
       "      <td>122</td>\n",
       "      <td>0</td>\n",
       "      <td>1</td>\n",
       "      <td>0</td>\n",
       "      <td>1</td>\n",
       "      <td>1</td>\n",
       "      <td>0</td>\n",
       "      <td>0</td>\n",
       "      <td>0.37</td>\n",
       "    </tr>\n",
       "  </tbody>\n",
       "</table>\n",
       "</div>"
      ],
      "text/plain": [
       "   age  tenure  region  dl  has_v_insurance  v_prem_quote  cs_rep  \\\n",
       "0   46     124       6   1                0       26226.0     163   \n",
       "1   25     285      46   1                0       44564.0     154   \n",
       "2   42      95      28   1                1       30796.0     122   \n",
       "3   39     229      26   1                0       35669.0     163   \n",
       "4   42     114      28   1                0       32039.0     122   \n",
       "\n",
       "   gender_female  gender_male  v_accident_no  v_accident_yes  v_age_1-2 year  \\\n",
       "0              0            1              0               1               1   \n",
       "1              1            0              0               1               0   \n",
       "2              0            1              1               0               1   \n",
       "3              1            0              0               1               1   \n",
       "4              0            1              0               1               1   \n",
       "\n",
       "   v_age_< 1 year  v_age_> 2 years  probability  \n",
       "0               0                0         0.59  \n",
       "1               1                0         0.29  \n",
       "2               0                0         0.00  \n",
       "3               0                0         0.33  \n",
       "4               0                0         0.37  "
      ]
     },
     "execution_count": 98,
     "metadata": {},
     "output_type": "execute_result"
    }
   ],
   "source": [
    "df_submit.head()"
   ]
  },
  {
   "cell_type": "code",
   "execution_count": 99,
   "id": "d2e55c1d-cc15-4db0-ae4a-3814d91c9863",
   "metadata": {},
   "outputs": [],
   "source": [
    "# Add classification column\n",
    "df_submit['classification'] = np.argmax(a_out_score, axis = -1)"
   ]
  },
  {
   "cell_type": "code",
   "execution_count": 100,
   "id": "941dcf22-6326-41cb-9cf8-fe4e845d05cf",
   "metadata": {},
   "outputs": [
    {
     "data": {
      "text/html": [
       "<div>\n",
       "<style scoped>\n",
       "    .dataframe tbody tr th:only-of-type {\n",
       "        vertical-align: middle;\n",
       "    }\n",
       "\n",
       "    .dataframe tbody tr th {\n",
       "        vertical-align: top;\n",
       "    }\n",
       "\n",
       "    .dataframe thead th {\n",
       "        text-align: right;\n",
       "    }\n",
       "</style>\n",
       "<table border=\"1\" class=\"dataframe\">\n",
       "  <thead>\n",
       "    <tr style=\"text-align: right;\">\n",
       "      <th></th>\n",
       "      <th>age</th>\n",
       "      <th>tenure</th>\n",
       "      <th>region</th>\n",
       "      <th>dl</th>\n",
       "      <th>has_v_insurance</th>\n",
       "      <th>v_prem_quote</th>\n",
       "      <th>cs_rep</th>\n",
       "      <th>gender_female</th>\n",
       "      <th>gender_male</th>\n",
       "      <th>v_accident_no</th>\n",
       "      <th>v_accident_yes</th>\n",
       "      <th>v_age_1-2 year</th>\n",
       "      <th>v_age_&lt; 1 year</th>\n",
       "      <th>v_age_&gt; 2 years</th>\n",
       "      <th>probability</th>\n",
       "      <th>classification</th>\n",
       "    </tr>\n",
       "  </thead>\n",
       "  <tbody>\n",
       "    <tr>\n",
       "      <th>0</th>\n",
       "      <td>46</td>\n",
       "      <td>124</td>\n",
       "      <td>6</td>\n",
       "      <td>1</td>\n",
       "      <td>0</td>\n",
       "      <td>26226.0</td>\n",
       "      <td>163</td>\n",
       "      <td>0</td>\n",
       "      <td>1</td>\n",
       "      <td>0</td>\n",
       "      <td>1</td>\n",
       "      <td>1</td>\n",
       "      <td>0</td>\n",
       "      <td>0</td>\n",
       "      <td>0.59</td>\n",
       "      <td>1</td>\n",
       "    </tr>\n",
       "    <tr>\n",
       "      <th>1</th>\n",
       "      <td>25</td>\n",
       "      <td>285</td>\n",
       "      <td>46</td>\n",
       "      <td>1</td>\n",
       "      <td>0</td>\n",
       "      <td>44564.0</td>\n",
       "      <td>154</td>\n",
       "      <td>1</td>\n",
       "      <td>0</td>\n",
       "      <td>0</td>\n",
       "      <td>1</td>\n",
       "      <td>0</td>\n",
       "      <td>1</td>\n",
       "      <td>0</td>\n",
       "      <td>0.29</td>\n",
       "      <td>0</td>\n",
       "    </tr>\n",
       "    <tr>\n",
       "      <th>2</th>\n",
       "      <td>42</td>\n",
       "      <td>95</td>\n",
       "      <td>28</td>\n",
       "      <td>1</td>\n",
       "      <td>1</td>\n",
       "      <td>30796.0</td>\n",
       "      <td>122</td>\n",
       "      <td>0</td>\n",
       "      <td>1</td>\n",
       "      <td>1</td>\n",
       "      <td>0</td>\n",
       "      <td>1</td>\n",
       "      <td>0</td>\n",
       "      <td>0</td>\n",
       "      <td>0.00</td>\n",
       "      <td>0</td>\n",
       "    </tr>\n",
       "    <tr>\n",
       "      <th>3</th>\n",
       "      <td>39</td>\n",
       "      <td>229</td>\n",
       "      <td>26</td>\n",
       "      <td>1</td>\n",
       "      <td>0</td>\n",
       "      <td>35669.0</td>\n",
       "      <td>163</td>\n",
       "      <td>1</td>\n",
       "      <td>0</td>\n",
       "      <td>0</td>\n",
       "      <td>1</td>\n",
       "      <td>1</td>\n",
       "      <td>0</td>\n",
       "      <td>0</td>\n",
       "      <td>0.33</td>\n",
       "      <td>0</td>\n",
       "    </tr>\n",
       "    <tr>\n",
       "      <th>4</th>\n",
       "      <td>42</td>\n",
       "      <td>114</td>\n",
       "      <td>28</td>\n",
       "      <td>1</td>\n",
       "      <td>0</td>\n",
       "      <td>32039.0</td>\n",
       "      <td>122</td>\n",
       "      <td>0</td>\n",
       "      <td>1</td>\n",
       "      <td>0</td>\n",
       "      <td>1</td>\n",
       "      <td>1</td>\n",
       "      <td>0</td>\n",
       "      <td>0</td>\n",
       "      <td>0.37</td>\n",
       "      <td>0</td>\n",
       "    </tr>\n",
       "  </tbody>\n",
       "</table>\n",
       "</div>"
      ],
      "text/plain": [
       "   age  tenure  region  dl  has_v_insurance  v_prem_quote  cs_rep  \\\n",
       "0   46     124       6   1                0       26226.0     163   \n",
       "1   25     285      46   1                0       44564.0     154   \n",
       "2   42      95      28   1                1       30796.0     122   \n",
       "3   39     229      26   1                0       35669.0     163   \n",
       "4   42     114      28   1                0       32039.0     122   \n",
       "\n",
       "   gender_female  gender_male  v_accident_no  v_accident_yes  v_age_1-2 year  \\\n",
       "0              0            1              0               1               1   \n",
       "1              1            0              0               1               0   \n",
       "2              0            1              1               0               1   \n",
       "3              1            0              0               1               1   \n",
       "4              0            1              0               1               1   \n",
       "\n",
       "   v_age_< 1 year  v_age_> 2 years  probability  classification  \n",
       "0               0                0         0.59               1  \n",
       "1               1                0         0.29               0  \n",
       "2               0                0         0.00               0  \n",
       "3               0                0         0.33               0  \n",
       "4               0                0         0.37               0  "
      ]
     },
     "execution_count": 100,
     "metadata": {},
     "output_type": "execute_result"
    }
   ],
   "source": [
    "df_submit.head()"
   ]
  },
  {
   "cell_type": "code",
   "execution_count": 101,
   "id": "66d7370a-1c31-477a-b486-ff9c2bb357e1",
   "metadata": {},
   "outputs": [
    {
     "data": {
      "text/plain": [
       "(2000, 2)"
      ]
     },
     "execution_count": 101,
     "metadata": {},
     "output_type": "execute_result"
    }
   ],
   "source": [
    "a_out_score.shape"
   ]
  },
  {
   "cell_type": "code",
   "execution_count": 102,
   "id": "73c20abf-7461-42b6-9136-08eafbecdb90",
   "metadata": {},
   "outputs": [
    {
     "data": {
      "text/plain": [
       "True"
      ]
     },
     "execution_count": 102,
     "metadata": {},
     "output_type": "execute_result"
    }
   ],
   "source": [
    "isinstance(a_out_score, np.ndarray)"
   ]
  },
  {
   "cell_type": "code",
   "execution_count": 106,
   "id": "02523b23-b636-4282-8014-53b1ca9863c3",
   "metadata": {},
   "outputs": [],
   "source": [
    "# score_data.head()\n",
    "df_Submit = score_data[['id_new']].copy()"
   ]
  },
  {
   "cell_type": "code",
   "execution_count": 107,
   "id": "03986dd5-f58c-41f2-856e-697827a5e5ce",
   "metadata": {},
   "outputs": [],
   "source": [
    "df_Submit['probability'] = a_out_score[:, 1]"
   ]
  },
  {
   "cell_type": "code",
   "execution_count": 108,
   "id": "b20cfbbe-2bb3-41b4-b82c-7f65bea57814",
   "metadata": {},
   "outputs": [
    {
     "data": {
      "text/html": [
       "<div>\n",
       "<style scoped>\n",
       "    .dataframe tbody tr th:only-of-type {\n",
       "        vertical-align: middle;\n",
       "    }\n",
       "\n",
       "    .dataframe tbody tr th {\n",
       "        vertical-align: top;\n",
       "    }\n",
       "\n",
       "    .dataframe thead th {\n",
       "        text-align: right;\n",
       "    }\n",
       "</style>\n",
       "<table border=\"1\" class=\"dataframe\">\n",
       "  <thead>\n",
       "    <tr style=\"text-align: right;\">\n",
       "      <th></th>\n",
       "      <th>id_new</th>\n",
       "      <th>probability</th>\n",
       "    </tr>\n",
       "  </thead>\n",
       "  <tbody>\n",
       "    <tr>\n",
       "      <th>0</th>\n",
       "      <td>a00020460</td>\n",
       "      <td>0.59</td>\n",
       "    </tr>\n",
       "    <tr>\n",
       "      <th>1</th>\n",
       "      <td>a00020461</td>\n",
       "      <td>0.29</td>\n",
       "    </tr>\n",
       "    <tr>\n",
       "      <th>2</th>\n",
       "      <td>a00020462</td>\n",
       "      <td>0.00</td>\n",
       "    </tr>\n",
       "    <tr>\n",
       "      <th>3</th>\n",
       "      <td>a00020463</td>\n",
       "      <td>0.33</td>\n",
       "    </tr>\n",
       "    <tr>\n",
       "      <th>4</th>\n",
       "      <td>a00020464</td>\n",
       "      <td>0.37</td>\n",
       "    </tr>\n",
       "  </tbody>\n",
       "</table>\n",
       "</div>"
      ],
      "text/plain": [
       "      id_new  probability\n",
       "0  a00020460         0.59\n",
       "1  a00020461         0.29\n",
       "2  a00020462         0.00\n",
       "3  a00020463         0.33\n",
       "4  a00020464         0.37"
      ]
     },
     "execution_count": 108,
     "metadata": {},
     "output_type": "execute_result"
    }
   ],
   "source": [
    "df_Submit.head()"
   ]
  },
  {
   "cell_type": "code",
   "execution_count": 109,
   "id": "78978acd-ad1d-41a4-b837-92a5c9b657de",
   "metadata": {},
   "outputs": [],
   "source": [
    "df_Submit['classification'] = np.argmax(a_out_score, axis = -1)"
   ]
  },
  {
   "cell_type": "code",
   "execution_count": 110,
   "id": "180908cb-5ac1-4a53-b33f-0863ab101f39",
   "metadata": {},
   "outputs": [
    {
     "data": {
      "text/html": [
       "<div>\n",
       "<style scoped>\n",
       "    .dataframe tbody tr th:only-of-type {\n",
       "        vertical-align: middle;\n",
       "    }\n",
       "\n",
       "    .dataframe tbody tr th {\n",
       "        vertical-align: top;\n",
       "    }\n",
       "\n",
       "    .dataframe thead th {\n",
       "        text-align: right;\n",
       "    }\n",
       "</style>\n",
       "<table border=\"1\" class=\"dataframe\">\n",
       "  <thead>\n",
       "    <tr style=\"text-align: right;\">\n",
       "      <th></th>\n",
       "      <th>id_new</th>\n",
       "      <th>probability</th>\n",
       "      <th>classification</th>\n",
       "    </tr>\n",
       "  </thead>\n",
       "  <tbody>\n",
       "    <tr>\n",
       "      <th>0</th>\n",
       "      <td>a00020460</td>\n",
       "      <td>0.59</td>\n",
       "      <td>1</td>\n",
       "    </tr>\n",
       "    <tr>\n",
       "      <th>1</th>\n",
       "      <td>a00020461</td>\n",
       "      <td>0.29</td>\n",
       "      <td>0</td>\n",
       "    </tr>\n",
       "    <tr>\n",
       "      <th>2</th>\n",
       "      <td>a00020462</td>\n",
       "      <td>0.00</td>\n",
       "      <td>0</td>\n",
       "    </tr>\n",
       "    <tr>\n",
       "      <th>3</th>\n",
       "      <td>a00020463</td>\n",
       "      <td>0.33</td>\n",
       "      <td>0</td>\n",
       "    </tr>\n",
       "    <tr>\n",
       "      <th>4</th>\n",
       "      <td>a00020464</td>\n",
       "      <td>0.37</td>\n",
       "      <td>0</td>\n",
       "    </tr>\n",
       "  </tbody>\n",
       "</table>\n",
       "</div>"
      ],
      "text/plain": [
       "      id_new  probability  classification\n",
       "0  a00020460         0.59               1\n",
       "1  a00020461         0.29               0\n",
       "2  a00020462         0.00               0\n",
       "3  a00020463         0.33               0\n",
       "4  a00020464         0.37               0"
      ]
     },
     "execution_count": 110,
     "metadata": {},
     "output_type": "execute_result"
    }
   ],
   "source": [
    "df_Submit.head()"
   ]
  },
  {
   "cell_type": "code",
   "execution_count": 111,
   "id": "aaddb0bf-900d-4bce-9ce6-51f956b3e543",
   "metadata": {},
   "outputs": [],
   "source": [
    "# Export dataset\n",
    "df_Submit.to_csv('my_prediction.csv', index=False)"
   ]
  },
  {
   "cell_type": "markdown",
   "id": "49457acd-c6f1-4b5b-b60a-bf30f5dad5a1",
   "metadata": {},
   "source": [
    "### <strong>Final Conclusion</strong>\n",
    "\n",
    "Based on the analysis performed, we can conclude that the age of the vehicle owner, the age of the vehicle, and the annual premium quote are important factors in determining whether a vehicle owner is likely to purchase an insurance policy. Specifically, younger vehicle owners with vehicles that are between 1-2 years old and with lower annual premium quotes are more likely to purchase insurance.\n",
    "\n",
    "We also built and evaluated three different models - logistic regression, Random Forest Classifier, and K-Nearest Neighbors (KNN) - to predict whether a vehicle owner would purchase an insurance policy. The Random Forest Classifier model had the best performance in terms of F1 score and ROC AUC, indicating that it was the best model for this task.\n",
    "\n",
    "However, the overall performance of the models was relatively low, particularly in predicting whether a vehicle owner would purchase insurance (class 1). This suggests that additional features or data may be necessary to build a more accurate model.\n",
    "\n",
    "Therefore, to increase the accuracy of the models, we recommend collecting more data, including additional features such as vehicle type, location, and driving history, as well as performing more feature engineering and tuning the hyperparameters of the models."
   ]
  },
  {
   "cell_type": "markdown",
   "id": "48da36fa-e16b-4055-82f3-2a9c2d51f4c4",
   "metadata": {},
   "source": [
    "### <strong>Recommendations</strong>\n",
    "\n",
    "Based on the analysis and results obtained, the following recommendations could be made:\n",
    "<ul>\n",
    "    <li>Target younger customers: From the EDA, it was observed that younger people are more likely to buy insurance. Therefore, it is recommended to target younger customers with targeted marketing campaigns and incentives.</li>\n",
    "    <li>Provide incentives for safer driving: The EDA also revealed that vehicles that have been involved in accidents before are more likely to have insurance cover. To encourage safer driving habits, insurance companies can provide incentives for customers who go accident-free for a certain period of time, such as lower premiums or cashback rewards.</li>\n",
    "    <li>Invest in improving the model performance: The models developed in this project had limited performance in predicting customers who are likely to buy insurance. Therefore, it is recommended to invest in improving the model performance. This could be done through the use of more sophisticated algorithms, better feature engineering, and collecting more data to improve the models.</li>\n",
    "    <li>Collaborate with car dealerships: From the EDA, it was observed that vehicles between 1-2 years are the majority, and are more likely to buy insurance. Insurance companies can collaborate with car dealerships to offer insurance coverage as part of the purchase package for new cars. This can provide an added incentive for customers to purchase insurance and improve the overall customer experience.</li>\n",
    "    <li>Improve customer service: As observed from the EDA, some regions have a low percentage of customers with insurance cover. To increase the uptake of insurance, insurance companies should focus on improving customer service, such as providing prompt and reliable service, clear communication of policy benefits, and ensuring timely claim processing. This can help to build trust and loyalty among customers and increase the likelihood of renewals.</li>\n",
    "</ul>"
   ]
  },
  {
   "cell_type": "code",
   "execution_count": null,
   "id": "00d0be74-902e-4f97-882e-f1eb14100326",
   "metadata": {},
   "outputs": [],
   "source": []
  }
 ],
 "metadata": {
  "kernelspec": {
   "display_name": "Python 3 (ipykernel)",
   "language": "python",
   "name": "python3"
  },
  "language_info": {
   "codemirror_mode": {
    "name": "ipython",
    "version": 3
   },
   "file_extension": ".py",
   "mimetype": "text/x-python",
   "name": "python",
   "nbconvert_exporter": "python",
   "pygments_lexer": "ipython3",
   "version": "3.9.12"
  }
 },
 "nbformat": 4,
 "nbformat_minor": 5
}
